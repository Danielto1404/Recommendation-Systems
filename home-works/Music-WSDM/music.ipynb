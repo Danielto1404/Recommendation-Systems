{
 "cells": [
  {
   "cell_type": "code",
   "execution_count": 1,
   "metadata": {
    "id": "CFQQ8yg7rk1R"
   },
   "outputs": [],
   "source": [
    "# Unzip data in Google Colab.\n",
    "# !unzip members.csv.zip\n",
    "# !unzip songs.csv.zip\n",
    "# !unzip test.csv.zip\n",
    "# !unzip train.csv.zip\n",
    "# !unzip song_extra_info.csv.zip\n",
    "\n",
    "# !pip install catboost\n",
    "# !pip install shap"
   ]
  },
  {
   "cell_type": "code",
   "execution_count": 2,
   "metadata": {
    "id": "PdIxD33HrJIb"
   },
   "outputs": [],
   "source": [
    "import pandas as pd\n",
    "import numpy as np\n",
    "import matplotlib.pyplot as plt\n",
    "\n",
    "from catboost import CatBoost\n",
    "from sklearn.model_selection import train_test_split, KFold\n",
    "from sklearn.metrics import roc_auc_score\n",
    "from collections import defaultdict\n",
    "from copy import copy\n",
    "import shap"
   ]
  },
  {
   "cell_type": "code",
   "execution_count": 3,
   "metadata": {
    "colab": {
     "base_uri": "https://localhost:8080/"
    },
    "id": "LXUMD8dRrJId",
    "outputId": "7156fa7e-0347-4c13-a440-1eba51a433c4"
   },
   "outputs": [
    {
     "name": "stdout",
     "output_type": "stream",
     "text": [
      "CPU times: user 39.7 s, sys: 2 s, total: 41.7 s\n",
      "Wall time: 42.5 s\n"
     ]
    }
   ],
   "source": [
    "%%time\n",
    "train_types = {\n",
    "    'msno'               : 'category',\n",
    "    'source_system_tab'  : 'str',\n",
    "    'source_screen_name' : 'str',\n",
    "    'source_type'        : 'str',\n",
    "    'target'             : np.uint8,\n",
    "    'song_id'            : 'category'\n",
    "}\n",
    "\n",
    "test_types = {\n",
    "    'msno'               : 'category',\n",
    "    'source_system_tab'  : 'str',\n",
    "    'source_screen_name' : 'str',\n",
    "    'source_type'        : 'str',\n",
    "    'song_id'            : 'category'\n",
    "}\n",
    "\n",
    "songs_types = {\n",
    "    'genre_ids'   : 'str',\n",
    "    'language'    : np.float32,\n",
    "    'artist_name' : 'str',\n",
    "    'composer'    : 'category',\n",
    "    'lyricist'    : 'category',\n",
    "    'song_id'     : 'category'\n",
    "}\n",
    "\n",
    "members_types = { \n",
    "    'city'           : np.uint8,\n",
    "    'bd'             : np.int16,\n",
    "    'gender'         : 'category',\n",
    "    'registered_via' : np.uint8\n",
    "}\n",
    "\n",
    "train   = pd.read_csv('data/train.csv',   dtype=train_types)\n",
    "test    = pd.read_csv('data/test.csv',    dtype=test_types)\n",
    "songs   = pd.read_csv('data/songs.csv',   dtype=songs_types)\n",
    "members = pd.read_csv('data/members.csv', dtype=members_types, \n",
    "                       parse_dates=['registration_init_time', 'expiration_date']\n",
    "                     )\n",
    "songs_extra = pd.read_csv('data/song_extra_info.csv')"
   ]
  },
  {
   "cell_type": "markdown",
   "metadata": {
    "id": "-JXwjA9WrJIf"
   },
   "source": [
    "#### Типы фичей, для train, test, songs, members\n",
    "\n",
    "\n"
   ]
  },
  {
   "cell_type": "code",
   "execution_count": 4,
   "metadata": {
    "colab": {
     "base_uri": "https://localhost:8080/"
    },
    "id": "-DP9yeslrJIf",
    "outputId": "1f9b4bdb-ebe3-4d69-9509-f31882dc906e",
    "scrolled": true
   },
   "outputs": [
    {
     "name": "stdout",
     "output_type": "stream",
     "text": [
      "msno                  category\n",
      "song_id               category\n",
      "source_system_tab       object\n",
      "source_screen_name      object\n",
      "source_type             object\n",
      "target                   uint8\n",
      "dtype: object\n",
      "~~~~~~~~~~~~~~~~~~~~~~~~~~~~~~~~\n",
      "msno                              object\n",
      "city                               uint8\n",
      "bd                                 int16\n",
      "gender                          category\n",
      "registered_via                     uint8\n",
      "registration_init_time    datetime64[ns]\n",
      "expiration_date           datetime64[ns]\n",
      "dtype: object\n",
      "~~~~~~~~~~~~~~~~~~~~~~~~~~~~~~~~\n",
      "song_id        category\n",
      "song_length       int64\n",
      "genre_ids        object\n",
      "artist_name      object\n",
      "composer       category\n",
      "lyricist       category\n",
      "language        float32\n",
      "dtype: object\n",
      "~~~~~~~~~~~~~~~~~~~~~~~~~~~~~~~~\n",
      "song_id    object\n",
      "name       object\n",
      "isrc       object\n",
      "dtype: object\n"
     ]
    }
   ],
   "source": [
    "curve_sep = '\\n~~~~~~~~~~~~~~~~~~~~~~~~~~~~~~~~\\n'\n",
    "print(train.dtypes, members.dtypes, songs.dtypes, songs_extra.dtypes, sep=curve_sep)"
   ]
  },
  {
   "cell_type": "markdown",
   "metadata": {
    "id": "30hgYH-KrJIf"
   },
   "source": [
    "Columns renaming:"
   ]
  },
  {
   "cell_type": "code",
   "execution_count": 5,
   "metadata": {
    "id": "DgAiC-9TrJIg",
    "scrolled": true
   },
   "outputs": [],
   "source": [
    "train.rename(columns={'msno' : 'user_id'}, inplace=True)\n",
    "test.rename(columns={'msno' : 'user_id'}, inplace=True)\n",
    "members.rename(columns={'msno': 'user_id', 'registration_init_time' : 'registration_date'}, inplace=True)"
   ]
  },
  {
   "cell_type": "markdown",
   "metadata": {
    "id": "izY3NYQsrJIh"
   },
   "source": [
    "### Анализ признаков пользователей:"
   ]
  },
  {
   "cell_type": "code",
   "execution_count": 6,
   "metadata": {
    "colab": {
     "base_uri": "https://localhost:8080/"
    },
    "id": "hTrxWeMwrJIi",
    "outputId": "d70e63eb-9b25-460c-e5d7-8506517e0db7"
   },
   "outputs": [
    {
     "name": "stdout",
     "output_type": "stream",
     "text": [
      "<class 'pandas.core.frame.DataFrame'>\n",
      "RangeIndex: 34403 entries, 0 to 34402\n",
      "Data columns (total 7 columns):\n",
      " #   Column             Non-Null Count  Dtype         \n",
      "---  ------             --------------  -----         \n",
      " 0   user_id            34403 non-null  object        \n",
      " 1   city               34403 non-null  uint8         \n",
      " 2   bd                 34403 non-null  int16         \n",
      " 3   gender             14501 non-null  category      \n",
      " 4   registered_via     34403 non-null  uint8         \n",
      " 5   registration_date  34403 non-null  datetime64[ns]\n",
      " 6   expiration_date    34403 non-null  datetime64[ns]\n",
      "dtypes: category(1), datetime64[ns](2), int16(1), object(1), uint8(2)\n",
      "memory usage: 974.4+ KB\n"
     ]
    }
   ],
   "source": [
    "members.info()"
   ]
  },
  {
   "cell_type": "code",
   "execution_count": 7,
   "metadata": {
    "id": "-Lv1VkZErJIj"
   },
   "outputs": [],
   "source": [
    "def merge(df, name):\n",
    "    \"\"\"\n",
    "    Returns new train_, test_, \n",
    "    which represents result of merging an input df with train and test, by specified column name.\n",
    "    \"\"\"\n",
    "    train_ = train.merge(df, on=name, how='left')\n",
    "    test_  = test.merge (df, on=name, how='left')\n",
    "    return train_, test_"
   ]
  },
  {
   "cell_type": "markdown",
   "metadata": {
    "id": "IPMxGTcHrJIk"
   },
   "source": [
    "***Сделаем новые фичи для дат:***"
   ]
  },
  {
   "cell_type": "markdown",
   "metadata": {
    "id": "EjpHPGG-rJIk"
   },
   "source": [
    "1) Год регистрации\n",
    "2) Месяц регистрации\n",
    "3) День регистрации\n",
    "4) Год окончания подписки\n",
    "5) Месяц окончания подписки\n",
    "6) Денб окончания подписки\n",
    "4) Длину подписки, которую потом можно категоризовать."
   ]
  },
  {
   "cell_type": "code",
   "execution_count": 8,
   "metadata": {
    "colab": {
     "base_uri": "https://localhost:8080/",
     "height": 224
    },
    "id": "b2_bL7OFrJIm",
    "outputId": "13b3ca03-16eb-4679-dba5-94fa7ddd9bd0",
    "scrolled": false
   },
   "outputs": [
    {
     "data": {
      "text/html": [
       "<div>\n",
       "<style scoped>\n",
       "    .dataframe tbody tr th:only-of-type {\n",
       "        vertical-align: middle;\n",
       "    }\n",
       "\n",
       "    .dataframe tbody tr th {\n",
       "        vertical-align: top;\n",
       "    }\n",
       "\n",
       "    .dataframe thead th {\n",
       "        text-align: right;\n",
       "    }\n",
       "</style>\n",
       "<table border=\"1\" class=\"dataframe\">\n",
       "  <thead>\n",
       "    <tr style=\"text-align: right;\">\n",
       "      <th></th>\n",
       "      <th>user_id</th>\n",
       "      <th>city</th>\n",
       "      <th>bd</th>\n",
       "      <th>gender</th>\n",
       "      <th>registered_via</th>\n",
       "      <th>registration_date</th>\n",
       "      <th>expiration_date</th>\n",
       "      <th>registration_year</th>\n",
       "      <th>registration_month</th>\n",
       "      <th>registration_day</th>\n",
       "      <th>expiration_year</th>\n",
       "      <th>expiration_month</th>\n",
       "      <th>expiration_day</th>\n",
       "      <th>subscription_length</th>\n",
       "    </tr>\n",
       "  </thead>\n",
       "  <tbody>\n",
       "    <tr>\n",
       "      <th>0</th>\n",
       "      <td>XQxgAYj3klVKjR3oxPPXYYFp4soD4TuBghkhMTD4oTw=</td>\n",
       "      <td>1</td>\n",
       "      <td>0</td>\n",
       "      <td>NaN</td>\n",
       "      <td>7</td>\n",
       "      <td>2011-08-20</td>\n",
       "      <td>2017-09-20</td>\n",
       "      <td>2011</td>\n",
       "      <td>8</td>\n",
       "      <td>20</td>\n",
       "      <td>2017</td>\n",
       "      <td>9</td>\n",
       "      <td>20</td>\n",
       "      <td>2223 days</td>\n",
       "    </tr>\n",
       "    <tr>\n",
       "      <th>1</th>\n",
       "      <td>UizsfmJb9mV54qE9hCYyU07Va97c0lCRLEQX3ae+ztM=</td>\n",
       "      <td>1</td>\n",
       "      <td>0</td>\n",
       "      <td>NaN</td>\n",
       "      <td>7</td>\n",
       "      <td>2015-06-28</td>\n",
       "      <td>2017-06-22</td>\n",
       "      <td>2015</td>\n",
       "      <td>6</td>\n",
       "      <td>28</td>\n",
       "      <td>2017</td>\n",
       "      <td>6</td>\n",
       "      <td>22</td>\n",
       "      <td>725 days</td>\n",
       "    </tr>\n",
       "    <tr>\n",
       "      <th>2</th>\n",
       "      <td>D8nEhsIOBSoE6VthTaqDX8U6lqjJ7dLdr72mOyLya2A=</td>\n",
       "      <td>1</td>\n",
       "      <td>0</td>\n",
       "      <td>NaN</td>\n",
       "      <td>4</td>\n",
       "      <td>2016-04-11</td>\n",
       "      <td>2017-07-12</td>\n",
       "      <td>2016</td>\n",
       "      <td>4</td>\n",
       "      <td>11</td>\n",
       "      <td>2017</td>\n",
       "      <td>7</td>\n",
       "      <td>12</td>\n",
       "      <td>457 days</td>\n",
       "    </tr>\n",
       "    <tr>\n",
       "      <th>3</th>\n",
       "      <td>mCuD+tZ1hERA/o5GPqk38e041J8ZsBaLcu7nGoIIvhI=</td>\n",
       "      <td>1</td>\n",
       "      <td>0</td>\n",
       "      <td>NaN</td>\n",
       "      <td>9</td>\n",
       "      <td>2015-09-06</td>\n",
       "      <td>2015-09-07</td>\n",
       "      <td>2015</td>\n",
       "      <td>9</td>\n",
       "      <td>6</td>\n",
       "      <td>2015</td>\n",
       "      <td>9</td>\n",
       "      <td>7</td>\n",
       "      <td>1 days</td>\n",
       "    </tr>\n",
       "    <tr>\n",
       "      <th>4</th>\n",
       "      <td>q4HRBfVSssAFS9iRfxWrohxuk9kCYMKjHOEagUMV6rQ=</td>\n",
       "      <td>1</td>\n",
       "      <td>0</td>\n",
       "      <td>NaN</td>\n",
       "      <td>4</td>\n",
       "      <td>2017-01-26</td>\n",
       "      <td>2017-06-13</td>\n",
       "      <td>2017</td>\n",
       "      <td>1</td>\n",
       "      <td>26</td>\n",
       "      <td>2017</td>\n",
       "      <td>6</td>\n",
       "      <td>13</td>\n",
       "      <td>138 days</td>\n",
       "    </tr>\n",
       "  </tbody>\n",
       "</table>\n",
       "</div>"
      ],
      "text/plain": [
       "                                        user_id  city  bd gender  \\\n",
       "0  XQxgAYj3klVKjR3oxPPXYYFp4soD4TuBghkhMTD4oTw=     1   0    NaN   \n",
       "1  UizsfmJb9mV54qE9hCYyU07Va97c0lCRLEQX3ae+ztM=     1   0    NaN   \n",
       "2  D8nEhsIOBSoE6VthTaqDX8U6lqjJ7dLdr72mOyLya2A=     1   0    NaN   \n",
       "3  mCuD+tZ1hERA/o5GPqk38e041J8ZsBaLcu7nGoIIvhI=     1   0    NaN   \n",
       "4  q4HRBfVSssAFS9iRfxWrohxuk9kCYMKjHOEagUMV6rQ=     1   0    NaN   \n",
       "\n",
       "   registered_via registration_date expiration_date  registration_year  \\\n",
       "0               7        2011-08-20      2017-09-20               2011   \n",
       "1               7        2015-06-28      2017-06-22               2015   \n",
       "2               4        2016-04-11      2017-07-12               2016   \n",
       "3               9        2015-09-06      2015-09-07               2015   \n",
       "4               4        2017-01-26      2017-06-13               2017   \n",
       "\n",
       "   registration_month  registration_day  expiration_year  expiration_month  \\\n",
       "0                   8                20             2017                 9   \n",
       "1                   6                28             2017                 6   \n",
       "2                   4                11             2017                 7   \n",
       "3                   9                 6             2015                 9   \n",
       "4                   1                26             2017                 6   \n",
       "\n",
       "   expiration_day subscription_length  \n",
       "0              20           2223 days  \n",
       "1              22            725 days  \n",
       "2              12            457 days  \n",
       "3               7              1 days  \n",
       "4              13            138 days  "
      ]
     },
     "execution_count": 8,
     "metadata": {},
     "output_type": "execute_result"
    }
   ],
   "source": [
    "members['registration_year']  = members['registration_date'].dt.year\n",
    "members['registration_month'] = members['registration_date'].dt.month\n",
    "members['registration_day']   = members['registration_date'].dt.day\n",
    "members['expiration_year']    = members['expiration_date'].dt.year\n",
    "members['expiration_month']   = members['expiration_date'].dt.month\n",
    "members['expiration_day']     = members['expiration_date'].dt.day\n",
    "\n",
    "members['subscription_length'] = members['expiration_date'] - members['registration_date']\n",
    "\n",
    "members.head()"
   ]
  },
  {
   "cell_type": "markdown",
   "metadata": {
    "id": "tyL8AkGmrJIn"
   },
   "source": [
    "Посмотрим на распределение количества дней подписки:"
   ]
  },
  {
   "cell_type": "code",
   "execution_count": 9,
   "metadata": {
    "id": "57oB8MsMrJIn",
    "scrolled": true
   },
   "outputs": [],
   "source": [
    "members['subscription_length'] = members.subscription_length   \\\n",
    "           .apply(lambda days: days / np.timedelta64(1, 'D'))  \\\n",
    "           .astype(np.int32)"
   ]
  },
  {
   "cell_type": "code",
   "execution_count": 10,
   "metadata": {
    "colab": {
     "base_uri": "https://localhost:8080/",
     "height": 282
    },
    "id": "cBOAsostrJIo",
    "outputId": "40e574c8-40dc-476c-fa0d-3110f017df33"
   },
   "outputs": [
    {
     "data": {
      "text/plain": [
       "<AxesSubplot:ylabel='Frequency'>"
      ]
     },
     "execution_count": 10,
     "metadata": {},
     "output_type": "execute_result"
    },
    {
     "data": {
      "image/png": "[encoded data removed]",
      "text/plain": [
       "<Figure size 432x288 with 1 Axes>"
      ]
     },
     "metadata": {
      "needs_background": "light"
     },
     "output_type": "display_data"
    }
   ],
   "source": [
    "members.subscription_length.plot.hist(color='magenta', bins=30)\n",
    "\n",
    "# У нас есть выброс посмотрим на него:"
   ]
  },
  {
   "cell_type": "code",
   "execution_count": 11,
   "metadata": {
    "colab": {
     "base_uri": "https://localhost:8080/",
     "height": 100
    },
    "id": "RAMzW640rJIo",
    "outputId": "21bd1a34-3a14-41e8-edd4-c1e9c8e54f20",
    "scrolled": true
   },
   "outputs": [
    {
     "data": {
      "text/html": [
       "<div>\n",
       "<style scoped>\n",
       "    .dataframe tbody tr th:only-of-type {\n",
       "        vertical-align: middle;\n",
       "    }\n",
       "\n",
       "    .dataframe tbody tr th {\n",
       "        vertical-align: top;\n",
       "    }\n",
       "\n",
       "    .dataframe thead th {\n",
       "        text-align: right;\n",
       "    }\n",
       "</style>\n",
       "<table border=\"1\" class=\"dataframe\">\n",
       "  <thead>\n",
       "    <tr style=\"text-align: right;\">\n",
       "      <th></th>\n",
       "      <th>user_id</th>\n",
       "      <th>city</th>\n",
       "      <th>bd</th>\n",
       "      <th>gender</th>\n",
       "      <th>registered_via</th>\n",
       "      <th>registration_date</th>\n",
       "      <th>expiration_date</th>\n",
       "      <th>registration_year</th>\n",
       "      <th>registration_month</th>\n",
       "      <th>registration_day</th>\n",
       "      <th>expiration_year</th>\n",
       "      <th>expiration_month</th>\n",
       "      <th>expiration_day</th>\n",
       "      <th>subscription_length</th>\n",
       "    </tr>\n",
       "  </thead>\n",
       "  <tbody>\n",
       "    <tr>\n",
       "      <th>16867</th>\n",
       "      <td>1Y+bNz3FxSoJnKOcR/Q8VJGXZbWIstrW0HfBe5LZzKA=</td>\n",
       "      <td>1</td>\n",
       "      <td>0</td>\n",
       "      <td>NaN</td>\n",
       "      <td>9</td>\n",
       "      <td>2014-05-01</td>\n",
       "      <td>1970-01-01</td>\n",
       "      <td>2014</td>\n",
       "      <td>5</td>\n",
       "      <td>1</td>\n",
       "      <td>1970</td>\n",
       "      <td>1</td>\n",
       "      <td>1</td>\n",
       "      <td>-16191</td>\n",
       "    </tr>\n",
       "  </tbody>\n",
       "</table>\n",
       "</div>"
      ],
      "text/plain": [
       "                                            user_id  city  bd gender  \\\n",
       "16867  1Y+bNz3FxSoJnKOcR/Q8VJGXZbWIstrW0HfBe5LZzKA=     1   0    NaN   \n",
       "\n",
       "       registered_via registration_date expiration_date  registration_year  \\\n",
       "16867               9        2014-05-01      1970-01-01               2014   \n",
       "\n",
       "       registration_month  registration_day  expiration_year  \\\n",
       "16867                   5                 1             1970   \n",
       "\n",
       "       expiration_month  expiration_day  subscription_length  \n",
       "16867                 1               1               -16191  "
      ]
     },
     "execution_count": 11,
     "metadata": {},
     "output_type": "execute_result"
    }
   ],
   "source": [
    "members[members.subscription_length < 0]"
   ]
  },
  {
   "cell_type": "markdown",
   "metadata": {
    "id": "IKpaYOT3rJIp"
   },
   "source": [
    "Поставим длинну подписки этому юзеру равную 0"
   ]
  },
  {
   "cell_type": "code",
   "execution_count": 12,
   "metadata": {
    "id": "XNtcSH4VrJIp"
   },
   "outputs": [],
   "source": [
    "members.loc[16867, 'subscription_length'] = 0"
   ]
  },
  {
   "cell_type": "code",
   "execution_count": 13,
   "metadata": {
    "colab": {
     "base_uri": "https://localhost:8080/",
     "height": 391
    },
    "id": "G0_GMJABrJIp",
    "outputId": "bf672cf1-02a4-419c-b44a-26cd97a2f912",
    "scrolled": true
   },
   "outputs": [
    {
     "data": {
      "text/plain": [
       "<AxesSubplot:ylabel='Frequency'>"
      ]
     },
     "execution_count": 13,
     "metadata": {},
     "output_type": "execute_result"
    },
    {
     "data": {
      "image/png": "[encoded data removed]",
      "text/plain": [
       "<Figure size 432x432 with 1 Axes>"
      ]
     },
     "metadata": {
      "needs_background": "light"
     },
     "output_type": "display_data"
    }
   ],
   "source": [
    "members['subscription_length'].plot.hist(color='magenta', figsize=(6, 6), bins=30)"
   ]
  },
  {
   "cell_type": "markdown",
   "metadata": {
    "id": "oFb6JwOqrJIq"
   },
   "source": [
    "Категоризуем длинну подписки"
   ]
  },
  {
   "cell_type": "code",
   "execution_count": 14,
   "metadata": {
    "colab": {
     "base_uri": "https://localhost:8080/",
     "height": 884
    },
    "id": "cuDvxhu8rJIq",
    "outputId": "040c2fb2-6ae9-45a4-ebb2-3c7793b1ec60"
   },
   "outputs": [
    {
     "name": "stdout",
     "output_type": "stream",
     "text": [
      "counts: \n",
      "0     9699\n",
      "1     3459\n",
      "3     3100\n",
      "2     2333\n",
      "6     1652\n",
      "7     1597\n",
      "4     1498\n",
      "11    1422\n",
      "10    1380\n",
      "8     1330\n",
      "12    1298\n",
      "5     1292\n",
      "9     1000\n",
      "13     455\n",
      "18     377\n",
      "19     345\n",
      "21     326\n",
      "17     296\n",
      "14     291\n",
      "15     273\n",
      "16     266\n",
      "20     259\n",
      "22     171\n",
      "23     162\n",
      "24     104\n",
      "25      18\n",
      "Name: subscription_length, dtype: int64 \n",
      "max_days membership: 5149\n"
     ]
    },
    {
     "data": {
      "text/plain": [
       "<AxesSubplot:ylabel='Frequency'>"
      ]
     },
     "execution_count": 14,
     "metadata": {},
     "output_type": "execute_result"
    },
    {
     "data": {
      "image/png": "[encoded data removed]",
      "text/plain": [
       "<Figure size 432x432 with 1 Axes>"
      ]
     },
     "metadata": {
      "needs_background": "light"
     },
     "output_type": "display_data"
    }
   ],
   "source": [
    "def categorize_subscription(subscription, k=200):\n",
    "    return subscription.apply(lambda days: days // k)\n",
    "\n",
    "subscription_level = categorize_subscription(members.subscription_length, k=200)\n",
    "\n",
    "print('counts: \\n{} \\nmax_days membership: {}'\n",
    "      .format(subscription_level.value_counts(), members.subscription_length.max()))\n",
    "\n",
    "members['subscription_level'] = subscription_level\n",
    "subscription_level.plot.hist(color='magenta', figsize=(6, 6), bins=30)"
   ]
  },
  {
   "cell_type": "code",
   "execution_count": 15,
   "metadata": {
    "id": "vo9XeA7irJIr"
   },
   "outputs": [],
   "source": [
    "def plot_bar(frame, index_name):\n",
    "    '''\n",
    "    Counts unique values, and makes a bar plot with counted values.\n",
    "    \n",
    "    return: (column, bar_plot)\n",
    "    '''\n",
    "    column      = frame[index_name].value_counts()\n",
    "    column      = pd.DataFrame({ index_name : column.index, 'count' : column.values })\n",
    "    column['%'] = column['count'].apply(lambda x: x * 100 / column['count'].sum())\n",
    "    column      = column.sort_values(by=[index_name], ignore_index=True)\n",
    "    bar = column.plot.bar(color='magenta', figsize=(5, 5), x=index_name, y='%')\n",
    "    return column, bar"
   ]
  },
  {
   "cell_type": "markdown",
   "metadata": {
    "id": "8XOHmEBxrJIs"
   },
   "source": [
    "### Анализ категориальный признаков пользователей: \n",
    "\n",
    "\n",
    "**Посмотрим на распределение городов:**"
   ]
  },
  {
   "cell_type": "code",
   "execution_count": 16,
   "metadata": {
    "colab": {
     "base_uri": "https://localhost:8080/",
     "height": 353
    },
    "id": "sS3Q_aANrJIs",
    "outputId": "55745c59-b32c-4e17-f57c-edbfd256938c",
    "scrolled": true
   },
   "outputs": [
    {
     "data": {
      "text/plain": [
       "<AxesSubplot:xlabel='city'>"
      ]
     },
     "execution_count": 16,
     "metadata": {},
     "output_type": "execute_result"
    },
    {
     "data": {
      "image/png": "[encoded data removed]",
      "text/plain": [
       "<Figure size 360x360 with 1 Axes>"
      ]
     },
     "metadata": {
      "needs_background": "light"
     },
     "output_type": "display_data"
    }
   ],
   "source": [
    "city_count, bar = plot_bar(frame=members, index_name='city')\n",
    "bar"
   ]
  },
  {
   "cell_type": "markdown",
   "metadata": {
    "id": "cQya-fGQrJIs"
   },
   "source": [
    "Теперь зная распределение городов можно сделать разделение на **city_index==1, и city_index != 1**"
   ]
  },
  {
   "cell_type": "code",
   "execution_count": 17,
   "metadata": {
    "id": "tWgMzM8MrJIt"
   },
   "outputs": [],
   "source": [
    "def update_city_index(city_index):\n",
    "    if city_index == 1:\n",
    "        return 1\n",
    "    else:\n",
    "        return 0\n",
    "\n",
    "# Проверял -- работает хуже.\n",
    "# members['city'] = members['city'].apply(update_index)"
   ]
  },
  {
   "cell_type": "markdown",
   "metadata": {
    "id": "oLzvhRJTrJIt"
   },
   "source": [
    "**Посмотрим на распределение методов регистрации:**"
   ]
  },
  {
   "cell_type": "code",
   "execution_count": 18,
   "metadata": {
    "colab": {
     "base_uri": "https://localhost:8080/",
     "height": 354
    },
    "id": "t8MPwPB0rJIt",
    "outputId": "b9fc81fb-1d2e-41d7-c846-3a9707e08339"
   },
   "outputs": [
    {
     "data": {
      "text/plain": [
       "<AxesSubplot:xlabel='registered_via'>"
      ]
     },
     "execution_count": 18,
     "metadata": {},
     "output_type": "execute_result"
    },
    {
     "data": {
      "image/png": "[encoded data removed]",
      "text/plain": [
       "<Figure size 360x360 with 1 Axes>"
      ]
     },
     "metadata": {
      "needs_background": "light"
     },
     "output_type": "display_data"
    }
   ],
   "source": [
    "registered_count, bar = plot_bar(frame=members, index_name='registered_via')\n",
    "bar"
   ]
  },
  {
   "cell_type": "code",
   "execution_count": 19,
   "metadata": {
    "colab": {
     "base_uri": "https://localhost:8080/",
     "height": 235
    },
    "id": "StAR0pXvrJIu",
    "outputId": "0d54f745-70de-4bab-b60b-9b21fc5e4837",
    "scrolled": true
   },
   "outputs": [
    {
     "data": {
      "text/html": [
       "<div>\n",
       "<style scoped>\n",
       "    .dataframe tbody tr th:only-of-type {\n",
       "        vertical-align: middle;\n",
       "    }\n",
       "\n",
       "    .dataframe tbody tr th {\n",
       "        vertical-align: top;\n",
       "    }\n",
       "\n",
       "    .dataframe thead th {\n",
       "        text-align: right;\n",
       "    }\n",
       "</style>\n",
       "<table border=\"1\" class=\"dataframe\">\n",
       "  <thead>\n",
       "    <tr style=\"text-align: right;\">\n",
       "      <th></th>\n",
       "      <th>registered_via</th>\n",
       "      <th>count</th>\n",
       "      <th>%</th>\n",
       "    </tr>\n",
       "  </thead>\n",
       "  <tbody>\n",
       "    <tr>\n",
       "      <th>0</th>\n",
       "      <td>3</td>\n",
       "      <td>4879</td>\n",
       "      <td>14.181903</td>\n",
       "    </tr>\n",
       "    <tr>\n",
       "      <th>1</th>\n",
       "      <td>4</td>\n",
       "      <td>11392</td>\n",
       "      <td>33.113391</td>\n",
       "    </tr>\n",
       "    <tr>\n",
       "      <th>2</th>\n",
       "      <td>7</td>\n",
       "      <td>9433</td>\n",
       "      <td>27.419120</td>\n",
       "    </tr>\n",
       "    <tr>\n",
       "      <th>3</th>\n",
       "      <td>9</td>\n",
       "      <td>8628</td>\n",
       "      <td>25.079208</td>\n",
       "    </tr>\n",
       "    <tr>\n",
       "      <th>4</th>\n",
       "      <td>13</td>\n",
       "      <td>70</td>\n",
       "      <td>0.203471</td>\n",
       "    </tr>\n",
       "    <tr>\n",
       "      <th>5</th>\n",
       "      <td>16</td>\n",
       "      <td>1</td>\n",
       "      <td>0.002907</td>\n",
       "    </tr>\n",
       "  </tbody>\n",
       "</table>\n",
       "</div>"
      ],
      "text/plain": [
       "   registered_via  count          %\n",
       "0               3   4879  14.181903\n",
       "1               4  11392  33.113391\n",
       "2               7   9433  27.419120\n",
       "3               9   8628  25.079208\n",
       "4              13     70   0.203471\n",
       "5              16      1   0.002907"
      ]
     },
     "execution_count": 19,
     "metadata": {},
     "output_type": "execute_result"
    }
   ],
   "source": [
    "registered_count"
   ]
  },
  {
   "cell_type": "markdown",
   "metadata": {
    "id": "-dt28BpTrJIv"
   },
   "source": [
    "Отнесем выбросы для **registred_via=[16, 13]** к наиболее популярному методу регистрации **(4)**"
   ]
  },
  {
   "cell_type": "code",
   "execution_count": 20,
   "metadata": {
    "id": "jjE20XwPrJIv"
   },
   "outputs": [],
   "source": [
    "def update_registration_method(registration_method):\n",
    "    # 4 is the most popular registration method.\n",
    "    if registration_method not in [3, 4, 7, 9]:\n",
    "        return 4\n",
    "    else:\n",
    "        return registration_method"
   ]
  },
  {
   "cell_type": "code",
   "execution_count": 21,
   "metadata": {
    "colab": {
     "base_uri": "https://localhost:8080/",
     "height": 331
    },
    "id": "FTNil3TTrJIv",
    "outputId": "250b0b87-d9e1-4a6d-a885-bed078d3246b",
    "scrolled": true
   },
   "outputs": [
    {
     "data": {
      "image/png": "[encoded data removed]",
      "text/plain": [
       "<Figure size 360x360 with 1 Axes>"
      ]
     },
     "metadata": {
      "needs_background": "light"
     },
     "output_type": "display_data"
    }
   ],
   "source": [
    "members['registration_method'] = members['registered_via'].apply(update_registration_method) \n",
    "\n",
    "_, bar = plot_bar(members, index_name='registration_method')"
   ]
  },
  {
   "cell_type": "markdown",
   "metadata": {
    "id": "sCYoExm6rJIw"
   },
   "source": [
    "**Посмотрим на распределение пола пользователей**"
   ]
  },
  {
   "cell_type": "code",
   "execution_count": 22,
   "metadata": {
    "colab": {
     "base_uri": "https://localhost:8080/",
     "height": 409
    },
    "id": "KGqT91njrJIx",
    "outputId": "dc008ae1-3c46-4792-ee36-469ffac471c0",
    "scrolled": true
   },
   "outputs": [
    {
     "name": "stdout",
     "output_type": "stream",
     "text": [
      "male      7405\n",
      "female    7096\n",
      "Name: gender, dtype: int64 | nulls: 19902\n"
     ]
    },
    {
     "data": {
      "image/png": "[encoded data removed]",
      "text/plain": [
       "<Figure size 360x360 with 1 Axes>"
      ]
     },
     "metadata": {
      "needs_background": "light"
     },
     "output_type": "display_data"
    }
   ],
   "source": [
    "gender_count, bar = plot_bar(frame=members, index_name='gender')\n",
    "print('{} | nulls: {}'.format(members['gender'].value_counts(), members['gender'].isnull().sum()))"
   ]
  },
  {
   "cell_type": "markdown",
   "metadata": {
    "id": "UCURVfdwrJIy"
   },
   "source": [
    "**Удалим ненужные признаки:**"
   ]
  },
  {
   "cell_type": "code",
   "execution_count": 23,
   "metadata": {
    "colab": {
     "base_uri": "https://localhost:8080/",
     "height": 224
    },
    "id": "UIrjc9A6rJIy",
    "outputId": "b172ee65-490f-4d55-a8af-581698ca6b2c",
    "scrolled": true
   },
   "outputs": [
    {
     "data": {
      "text/html": [
       "<div>\n",
       "<style scoped>\n",
       "    .dataframe tbody tr th:only-of-type {\n",
       "        vertical-align: middle;\n",
       "    }\n",
       "\n",
       "    .dataframe tbody tr th {\n",
       "        vertical-align: top;\n",
       "    }\n",
       "\n",
       "    .dataframe thead th {\n",
       "        text-align: right;\n",
       "    }\n",
       "</style>\n",
       "<table border=\"1\" class=\"dataframe\">\n",
       "  <thead>\n",
       "    <tr style=\"text-align: right;\">\n",
       "      <th></th>\n",
       "      <th>user_id</th>\n",
       "      <th>city</th>\n",
       "      <th>bd</th>\n",
       "      <th>registration_year</th>\n",
       "      <th>registration_month</th>\n",
       "      <th>registration_day</th>\n",
       "      <th>expiration_year</th>\n",
       "      <th>expiration_month</th>\n",
       "      <th>expiration_day</th>\n",
       "      <th>subscription_length</th>\n",
       "      <th>subscription_level</th>\n",
       "      <th>registration_method</th>\n",
       "    </tr>\n",
       "  </thead>\n",
       "  <tbody>\n",
       "    <tr>\n",
       "      <th>0</th>\n",
       "      <td>XQxgAYj3klVKjR3oxPPXYYFp4soD4TuBghkhMTD4oTw=</td>\n",
       "      <td>1</td>\n",
       "      <td>0</td>\n",
       "      <td>2011</td>\n",
       "      <td>8</td>\n",
       "      <td>20</td>\n",
       "      <td>2017</td>\n",
       "      <td>9</td>\n",
       "      <td>20</td>\n",
       "      <td>2223</td>\n",
       "      <td>11</td>\n",
       "      <td>7</td>\n",
       "    </tr>\n",
       "    <tr>\n",
       "      <th>1</th>\n",
       "      <td>UizsfmJb9mV54qE9hCYyU07Va97c0lCRLEQX3ae+ztM=</td>\n",
       "      <td>1</td>\n",
       "      <td>0</td>\n",
       "      <td>2015</td>\n",
       "      <td>6</td>\n",
       "      <td>28</td>\n",
       "      <td>2017</td>\n",
       "      <td>6</td>\n",
       "      <td>22</td>\n",
       "      <td>725</td>\n",
       "      <td>3</td>\n",
       "      <td>7</td>\n",
       "    </tr>\n",
       "    <tr>\n",
       "      <th>2</th>\n",
       "      <td>D8nEhsIOBSoE6VthTaqDX8U6lqjJ7dLdr72mOyLya2A=</td>\n",
       "      <td>1</td>\n",
       "      <td>0</td>\n",
       "      <td>2016</td>\n",
       "      <td>4</td>\n",
       "      <td>11</td>\n",
       "      <td>2017</td>\n",
       "      <td>7</td>\n",
       "      <td>12</td>\n",
       "      <td>457</td>\n",
       "      <td>2</td>\n",
       "      <td>4</td>\n",
       "    </tr>\n",
       "    <tr>\n",
       "      <th>3</th>\n",
       "      <td>mCuD+tZ1hERA/o5GPqk38e041J8ZsBaLcu7nGoIIvhI=</td>\n",
       "      <td>1</td>\n",
       "      <td>0</td>\n",
       "      <td>2015</td>\n",
       "      <td>9</td>\n",
       "      <td>6</td>\n",
       "      <td>2015</td>\n",
       "      <td>9</td>\n",
       "      <td>7</td>\n",
       "      <td>1</td>\n",
       "      <td>0</td>\n",
       "      <td>9</td>\n",
       "    </tr>\n",
       "    <tr>\n",
       "      <th>4</th>\n",
       "      <td>q4HRBfVSssAFS9iRfxWrohxuk9kCYMKjHOEagUMV6rQ=</td>\n",
       "      <td>1</td>\n",
       "      <td>0</td>\n",
       "      <td>2017</td>\n",
       "      <td>1</td>\n",
       "      <td>26</td>\n",
       "      <td>2017</td>\n",
       "      <td>6</td>\n",
       "      <td>13</td>\n",
       "      <td>138</td>\n",
       "      <td>0</td>\n",
       "      <td>4</td>\n",
       "    </tr>\n",
       "  </tbody>\n",
       "</table>\n",
       "</div>"
      ],
      "text/plain": [
       "                                        user_id  city  bd  registration_year  \\\n",
       "0  XQxgAYj3klVKjR3oxPPXYYFp4soD4TuBghkhMTD4oTw=     1   0               2011   \n",
       "1  UizsfmJb9mV54qE9hCYyU07Va97c0lCRLEQX3ae+ztM=     1   0               2015   \n",
       "2  D8nEhsIOBSoE6VthTaqDX8U6lqjJ7dLdr72mOyLya2A=     1   0               2016   \n",
       "3  mCuD+tZ1hERA/o5GPqk38e041J8ZsBaLcu7nGoIIvhI=     1   0               2015   \n",
       "4  q4HRBfVSssAFS9iRfxWrohxuk9kCYMKjHOEagUMV6rQ=     1   0               2017   \n",
       "\n",
       "   registration_month  registration_day  expiration_year  expiration_month  \\\n",
       "0                   8                20             2017                 9   \n",
       "1                   6                28             2017                 6   \n",
       "2                   4                11             2017                 7   \n",
       "3                   9                 6             2015                 9   \n",
       "4                   1                26             2017                 6   \n",
       "\n",
       "   expiration_day  subscription_length  subscription_level  \\\n",
       "0              20                 2223                  11   \n",
       "1              22                  725                   3   \n",
       "2              12                  457                   2   \n",
       "3               7                    1                   0   \n",
       "4              13                  138                   0   \n",
       "\n",
       "   registration_method  \n",
       "0                    7  \n",
       "1                    7  \n",
       "2                    4  \n",
       "3                    9  \n",
       "4                    4  "
      ]
     },
     "execution_count": 23,
     "metadata": {},
     "output_type": "execute_result"
    }
   ],
   "source": [
    "members = members.drop(\n",
    "    ['gender', 'registered_via', 'expiration_date', 'registration_date'], \n",
    "    axis=1\n",
    ")\n",
    "\n",
    "members.head()"
   ]
  },
  {
   "cell_type": "markdown",
   "metadata": {
    "id": "QJP3VrnorJIz"
   },
   "source": [
    "### Замерджим пользователей к train и test:"
   ]
  },
  {
   "cell_type": "code",
   "execution_count": 24,
   "metadata": {
    "id": "veshNTpsrJIz"
   },
   "outputs": [],
   "source": [
    "train, test = merge(members, 'user_id')\n",
    "del members"
   ]
  },
  {
   "cell_type": "code",
   "execution_count": 25,
   "metadata": {
    "colab": {
     "base_uri": "https://localhost:8080/"
    },
    "id": "5qjLcnGKrJIz",
    "outputId": "a8cdc413-b261-4cbf-81ea-4f39fca8c380"
   },
   "outputs": [
    {
     "data": {
      "text/plain": [
       "user_id                     0\n",
       "song_id                     0\n",
       "source_system_tab       24849\n",
       "source_screen_name     414804\n",
       "source_type             21539\n",
       "target                      0\n",
       "city                        0\n",
       "bd                          0\n",
       "registration_year           0\n",
       "registration_month          0\n",
       "registration_day            0\n",
       "expiration_year             0\n",
       "expiration_month            0\n",
       "expiration_day              0\n",
       "subscription_length         0\n",
       "subscription_level          0\n",
       "registration_method         0\n",
       "dtype: int64"
      ]
     },
     "execution_count": 25,
     "metadata": {},
     "output_type": "execute_result"
    }
   ],
   "source": [
    "train.isnull().sum()"
   ]
  },
  {
   "cell_type": "markdown",
   "metadata": {
    "id": "OP9FEWCcrJI0"
   },
   "source": [
    "### Анализ признаков для песен: "
   ]
  },
  {
   "cell_type": "code",
   "execution_count": 26,
   "metadata": {
    "colab": {
     "base_uri": "https://localhost:8080/",
     "height": 272
    },
    "id": "E-z0NSS1rJI0",
    "outputId": "79671519-b4a1-4068-ffe4-caff261b1bc5"
   },
   "outputs": [
    {
     "data": {
      "text/html": [
       "<div>\n",
       "<style scoped>\n",
       "    .dataframe tbody tr th:only-of-type {\n",
       "        vertical-align: middle;\n",
       "    }\n",
       "\n",
       "    .dataframe tbody tr th {\n",
       "        vertical-align: top;\n",
       "    }\n",
       "\n",
       "    .dataframe thead th {\n",
       "        text-align: right;\n",
       "    }\n",
       "</style>\n",
       "<table border=\"1\" class=\"dataframe\">\n",
       "  <thead>\n",
       "    <tr style=\"text-align: right;\">\n",
       "      <th></th>\n",
       "      <th>song_id</th>\n",
       "      <th>song_length</th>\n",
       "      <th>genre_ids</th>\n",
       "      <th>artist_name</th>\n",
       "      <th>composer</th>\n",
       "      <th>lyricist</th>\n",
       "      <th>language</th>\n",
       "    </tr>\n",
       "  </thead>\n",
       "  <tbody>\n",
       "    <tr>\n",
       "      <th>0</th>\n",
       "      <td>CXoTN1eb7AI+DntdU1vbcwGRV4SCIDxZu+YD8JP8r4E=</td>\n",
       "      <td>247640</td>\n",
       "      <td>465</td>\n",
       "      <td>張信哲 (Jeff Chang)</td>\n",
       "      <td>董貞</td>\n",
       "      <td>何啟弘</td>\n",
       "      <td>3.0</td>\n",
       "    </tr>\n",
       "    <tr>\n",
       "      <th>1</th>\n",
       "      <td>o0kFgae9QtnYgRkVPqLJwa05zIhRlUjfF7O1tDw0ZDU=</td>\n",
       "      <td>197328</td>\n",
       "      <td>444</td>\n",
       "      <td>BLACKPINK</td>\n",
       "      <td>TEDDY|  FUTURE BOUNCE|  Bekuh BOOM</td>\n",
       "      <td>TEDDY</td>\n",
       "      <td>31.0</td>\n",
       "    </tr>\n",
       "    <tr>\n",
       "      <th>2</th>\n",
       "      <td>DwVvVurfpuz+XPuFvucclVQEyPqcpUkHR0ne1RQzPs0=</td>\n",
       "      <td>231781</td>\n",
       "      <td>465</td>\n",
       "      <td>SUPER JUNIOR</td>\n",
       "      <td>NaN</td>\n",
       "      <td>NaN</td>\n",
       "      <td>31.0</td>\n",
       "    </tr>\n",
       "    <tr>\n",
       "      <th>3</th>\n",
       "      <td>dKMBWoZyScdxSkihKG+Vf47nc18N9q4m58+b4e7dSSE=</td>\n",
       "      <td>273554</td>\n",
       "      <td>465</td>\n",
       "      <td>S.H.E</td>\n",
       "      <td>湯小康</td>\n",
       "      <td>徐世珍</td>\n",
       "      <td>3.0</td>\n",
       "    </tr>\n",
       "    <tr>\n",
       "      <th>4</th>\n",
       "      <td>W3bqWd3T+VeHFzHAUfARgW9AvVRaF4N5Yzm4Mr6Eo/o=</td>\n",
       "      <td>140329</td>\n",
       "      <td>726</td>\n",
       "      <td>貴族精選</td>\n",
       "      <td>Traditional</td>\n",
       "      <td>Traditional</td>\n",
       "      <td>52.0</td>\n",
       "    </tr>\n",
       "  </tbody>\n",
       "</table>\n",
       "</div>"
      ],
      "text/plain": [
       "                                        song_id  song_length genre_ids  \\\n",
       "0  CXoTN1eb7AI+DntdU1vbcwGRV4SCIDxZu+YD8JP8r4E=       247640       465   \n",
       "1  o0kFgae9QtnYgRkVPqLJwa05zIhRlUjfF7O1tDw0ZDU=       197328       444   \n",
       "2  DwVvVurfpuz+XPuFvucclVQEyPqcpUkHR0ne1RQzPs0=       231781       465   \n",
       "3  dKMBWoZyScdxSkihKG+Vf47nc18N9q4m58+b4e7dSSE=       273554       465   \n",
       "4  W3bqWd3T+VeHFzHAUfARgW9AvVRaF4N5Yzm4Mr6Eo/o=       140329       726   \n",
       "\n",
       "        artist_name                            composer     lyricist  language  \n",
       "0  張信哲 (Jeff Chang)                                  董貞          何啟弘       3.0  \n",
       "1         BLACKPINK  TEDDY|  FUTURE BOUNCE|  Bekuh BOOM        TEDDY      31.0  \n",
       "2      SUPER JUNIOR                                 NaN          NaN      31.0  \n",
       "3             S.H.E                                 湯小康          徐世珍       3.0  \n",
       "4              貴族精選                         Traditional  Traditional      52.0  "
      ]
     },
     "execution_count": 26,
     "metadata": {},
     "output_type": "execute_result"
    }
   ],
   "source": [
    "songs.head()"
   ]
  },
  {
   "cell_type": "code",
   "execution_count": 27,
   "metadata": {
    "colab": {
     "base_uri": "https://localhost:8080/",
     "height": 533
    },
    "id": "cVsoAOp5rJI0",
    "outputId": "f931ca46-3959-4c78-8ddd-5d0ca3b7b916",
    "scrolled": false
   },
   "outputs": [
    {
     "name": "stdout",
     "output_type": "stream",
     "text": [
      "   language    count          %\n",
      "0      -1.0   639467  27.847481\n",
      "1       3.0   106295   4.628930\n",
      "2      10.0    15482   0.674209\n",
      "3      17.0    92518   4.028970\n",
      "4      24.0    41744   1.817866\n",
      "5      31.0    39201   1.707123\n",
      "6      38.0     2385   0.103862\n",
      "7      45.0    14435   0.628615\n",
      "8      52.0  1336694  58.210292\n",
      "9      59.0     8098   0.352651\n"
     ]
    },
    {
     "data": {
      "image/png": "[encoded data removed]",
      "text/plain": [
       "<Figure size 360x360 with 1 Axes>"
      ]
     },
     "metadata": {
      "needs_background": "light"
     },
     "output_type": "display_data"
    }
   ],
   "source": [
    "language_count, bar = plot_bar(frame=songs, index_name='language')\n",
    "print(language_count)"
   ]
  },
  {
   "cell_type": "code",
   "execution_count": 28,
   "metadata": {
    "colab": {
     "base_uri": "https://localhost:8080/"
    },
    "id": "ulStQ83UpO1A",
    "outputId": "49c4555a-ae2a-4871-d208-5979a108f7ba"
   },
   "outputs": [
    {
     "data": {
      "text/plain": [
       "59"
      ]
     },
     "execution_count": 28,
     "metadata": {},
     "output_type": "execute_result"
    }
   ],
   "source": [
    "most_popular_language = int(language_count.max()['language'])\n",
    "\n",
    "# Заполним пропуски наиболее популярным языком и прибавим 2, чтобы в дальшнейшем CatBoost не ругался.\n",
    "songs['language'] = (songs['language']\n",
    "                     .fillna(most_popular_language)\n",
    "                     .astype(np.int8) + 2\n",
    "                    )\n",
    "\n",
    "most_popular_language"
   ]
  },
  {
   "cell_type": "markdown",
   "metadata": {
    "id": "P87xwLaDnqmw"
   },
   "source": [
    "Посмотрим на композиторов, артистов и лиричность"
   ]
  },
  {
   "cell_type": "code",
   "execution_count": 29,
   "metadata": {
    "colab": {
     "base_uri": "https://localhost:8080/"
    },
    "id": "uvpCkTmMrJI3",
    "outputId": "0157c059-ec43-4523-b09d-f901e7a2188c"
   },
   "outputs": [
    {
     "name": "stdout",
     "output_type": "stream",
     "text": [
      "Lyricist nan: 1945268 | Composer nan: 1071354 | Artist nan: 0\n"
     ]
    }
   ],
   "source": [
    "lyricist = songs['lyricist']\n",
    "composer = songs['composer']\n",
    "artists  = songs['artist_name']\n",
    "\n",
    "print('Lyricist nan: {} | Composer nan: {} | Artist nan: {}'\n",
    "      .format(lyricist.isnull().sum(), composer.isnull().sum(), artists.isnull().sum()))"
   ]
  },
  {
   "cell_type": "markdown",
   "metadata": {
    "id": "zUYM-455rJI4"
   },
   "source": [
    "Удалим строку с composer и lyricist, так как они содержат очень много nan-values."
   ]
  },
  {
   "cell_type": "code",
   "execution_count": 30,
   "metadata": {
    "colab": {
     "base_uri": "https://localhost:8080/",
     "height": 204
    },
    "id": "xMXaUL19rJI4",
    "outputId": "9a931fdc-8c55-48bd-e03c-5f211412f0ef"
   },
   "outputs": [
    {
     "data": {
      "text/html": [
       "<div>\n",
       "<style scoped>\n",
       "    .dataframe tbody tr th:only-of-type {\n",
       "        vertical-align: middle;\n",
       "    }\n",
       "\n",
       "    .dataframe tbody tr th {\n",
       "        vertical-align: top;\n",
       "    }\n",
       "\n",
       "    .dataframe thead th {\n",
       "        text-align: right;\n",
       "    }\n",
       "</style>\n",
       "<table border=\"1\" class=\"dataframe\">\n",
       "  <thead>\n",
       "    <tr style=\"text-align: right;\">\n",
       "      <th></th>\n",
       "      <th>song_id</th>\n",
       "      <th>song_length</th>\n",
       "      <th>genre_ids</th>\n",
       "      <th>artist_name</th>\n",
       "      <th>language</th>\n",
       "    </tr>\n",
       "  </thead>\n",
       "  <tbody>\n",
       "    <tr>\n",
       "      <th>0</th>\n",
       "      <td>CXoTN1eb7AI+DntdU1vbcwGRV4SCIDxZu+YD8JP8r4E=</td>\n",
       "      <td>247640</td>\n",
       "      <td>465</td>\n",
       "      <td>張信哲 (Jeff Chang)</td>\n",
       "      <td>5</td>\n",
       "    </tr>\n",
       "    <tr>\n",
       "      <th>1</th>\n",
       "      <td>o0kFgae9QtnYgRkVPqLJwa05zIhRlUjfF7O1tDw0ZDU=</td>\n",
       "      <td>197328</td>\n",
       "      <td>444</td>\n",
       "      <td>BLACKPINK</td>\n",
       "      <td>33</td>\n",
       "    </tr>\n",
       "    <tr>\n",
       "      <th>2</th>\n",
       "      <td>DwVvVurfpuz+XPuFvucclVQEyPqcpUkHR0ne1RQzPs0=</td>\n",
       "      <td>231781</td>\n",
       "      <td>465</td>\n",
       "      <td>SUPER JUNIOR</td>\n",
       "      <td>33</td>\n",
       "    </tr>\n",
       "    <tr>\n",
       "      <th>3</th>\n",
       "      <td>dKMBWoZyScdxSkihKG+Vf47nc18N9q4m58+b4e7dSSE=</td>\n",
       "      <td>273554</td>\n",
       "      <td>465</td>\n",
       "      <td>S.H.E</td>\n",
       "      <td>5</td>\n",
       "    </tr>\n",
       "    <tr>\n",
       "      <th>4</th>\n",
       "      <td>W3bqWd3T+VeHFzHAUfARgW9AvVRaF4N5Yzm4Mr6Eo/o=</td>\n",
       "      <td>140329</td>\n",
       "      <td>726</td>\n",
       "      <td>貴族精選</td>\n",
       "      <td>54</td>\n",
       "    </tr>\n",
       "  </tbody>\n",
       "</table>\n",
       "</div>"
      ],
      "text/plain": [
       "                                        song_id  song_length genre_ids  \\\n",
       "0  CXoTN1eb7AI+DntdU1vbcwGRV4SCIDxZu+YD8JP8r4E=       247640       465   \n",
       "1  o0kFgae9QtnYgRkVPqLJwa05zIhRlUjfF7O1tDw0ZDU=       197328       444   \n",
       "2  DwVvVurfpuz+XPuFvucclVQEyPqcpUkHR0ne1RQzPs0=       231781       465   \n",
       "3  dKMBWoZyScdxSkihKG+Vf47nc18N9q4m58+b4e7dSSE=       273554       465   \n",
       "4  W3bqWd3T+VeHFzHAUfARgW9AvVRaF4N5Yzm4Mr6Eo/o=       140329       726   \n",
       "\n",
       "        artist_name  language  \n",
       "0  張信哲 (Jeff Chang)         5  \n",
       "1         BLACKPINK        33  \n",
       "2      SUPER JUNIOR        33  \n",
       "3             S.H.E         5  \n",
       "4              貴族精選        54  "
      ]
     },
     "execution_count": 30,
     "metadata": {},
     "output_type": "execute_result"
    }
   ],
   "source": [
    "songs = songs.drop(['lyricist', 'composer'], axis=1)\n",
    "songs.head()"
   ]
  },
  {
   "cell_type": "markdown",
   "metadata": {
    "id": "10r-Tu8NrJI5"
   },
   "source": [
    "**Посмотрим на признак отвечающий за длину песен:**"
   ]
  },
  {
   "cell_type": "code",
   "execution_count": 31,
   "metadata": {
    "colab": {
     "base_uri": "https://localhost:8080/",
     "height": 402
    },
    "id": "dCkdIY_GrJI5",
    "outputId": "1cb28f2b-9240-4491-9691-25229632ee04",
    "scrolled": true
   },
   "outputs": [
    {
     "data": {
      "text/plain": [
       "<AxesSubplot:ylabel='Frequency'>"
      ]
     },
     "execution_count": 31,
     "metadata": {},
     "output_type": "execute_result"
    },
    {
     "data": {
      "image/png": "[encoded data removed]",
      "text/plain": [
       "<Figure size 432x432 with 1 Axes>"
      ]
     },
     "metadata": {
      "needs_background": "light"
     },
     "output_type": "display_data"
    }
   ],
   "source": [
    "max_length = songs['song_length'].max()\n",
    "min_length = songs['song_length'].min()\n",
    "\n",
    "normalized_length = songs['song_length'] / max_length\n",
    "normalized_length.plot.hist(figsize=(6, 6), bins=40, color='magenta')"
   ]
  },
  {
   "cell_type": "code",
   "execution_count": 32,
   "metadata": {
    "colab": {
     "base_uri": "https://localhost:8080/",
     "height": 445
    },
    "id": "GMPLj6h8rJI6",
    "outputId": "1da0803e-aeac-44dd-9901-ce7518e6cd27",
    "scrolled": false
   },
   "outputs": [
    {
     "name": "stdout",
     "output_type": "stream",
     "text": [
      "Выброшено 22110 песен с большой длинной\n"
     ]
    },
    {
     "data": {
      "image/png": "[encoded data removed]",
      "text/plain": [
       "<Figure size 504x504 with 1 Axes>"
      ]
     },
     "metadata": {
      "needs_background": "light"
     },
     "output_type": "display_data"
    }
   ],
   "source": [
    "mask = normalized_length < 0.06\n",
    "normalized_length = normalized_length[mask]\n",
    "print('Выброшено {} песен с большой длинной'\n",
    "  .format(songs.shape[0] - normalized_length.shape[0]))\n",
    "\n",
    "# Можно заметить что практически все песни остались => можно выбросить аутлайеры\n",
    "normalized_length.plot.hist(color='magenta', figsize=(7, 7), bins=300)\n",
    "\n",
    "songs = songs[mask]\n",
    "songs['song_length'] = songs.song_length.astype(np.float32)\n",
    "\n",
    "mean_song_length = songs['song_length'].mean()"
   ]
  },
  {
   "cell_type": "code",
   "execution_count": 33,
   "metadata": {
    "id": "Zxy7iAUbuOFh"
   },
   "outputs": [],
   "source": [
    "songs['song_length'] = songs['song_length'].fillna(mean_song_length)"
   ]
  },
  {
   "cell_type": "markdown",
   "metadata": {
    "id": "YKZ597RZrJI6"
   },
   "source": [
    "**Обработаем жанры песен:**"
   ]
  },
  {
   "cell_type": "code",
   "execution_count": 34,
   "metadata": {
    "id": "KEBkND3ErJI6"
   },
   "outputs": [],
   "source": [
    "genres_counter = defaultdict(int)\n",
    "\n",
    "def fill_counter(genres):\n",
    "    for genre in split_genres(genres):\n",
    "        genres_counter[genre] += 1\n",
    "    \n",
    "    return genres\n",
    "\n",
    "def split_genres(genres):\n",
    "    return genres.split('|')"
   ]
  },
  {
   "cell_type": "markdown",
   "metadata": {
    "id": "pM6R4Ne3xiOW"
   },
   "source": [
    "Заполним наш словарь с жанрами:"
   ]
  },
  {
   "cell_type": "code",
   "execution_count": 35,
   "metadata": {
    "id": "QbPwtDTjxDba"
   },
   "outputs": [],
   "source": [
    "songs['genre_ids'] = songs['genre_ids'].dropna().apply(fill_counter)"
   ]
  },
  {
   "cell_type": "markdown",
   "metadata": {
    "id": "xT6jYdGkrJI7"
   },
   "source": [
    "**Заполняем пропуски наиболее популярным жанром**"
   ]
  },
  {
   "cell_type": "code",
   "execution_count": 36,
   "metadata": {
    "id": "OaF4cQZyrJI7"
   },
   "outputs": [],
   "source": [
    "most_popular_genre = max(genres_counter, key=lambda k: genres_counter[k])\n",
    "\n",
    "songs['genre_ids'] = songs['genre_ids'].fillna(most_popular_genre)"
   ]
  },
  {
   "cell_type": "code",
   "execution_count": 37,
   "metadata": {
    "id": "B-JUjFz3rJI7"
   },
   "outputs": [],
   "source": [
    "def save_one_genre(genres):\n",
    "    counts_genre = [(genres_counter[genre], genre) for genre in genres.split('|')]\n",
    "    c, g = max(counts_genre)\n",
    "    return g"
   ]
  },
  {
   "cell_type": "code",
   "execution_count": 38,
   "metadata": {
    "colab": {
     "base_uri": "https://localhost:8080/"
    },
    "id": "KiJb7MM2rJI8",
    "outputId": "ded1fd57-2c52-4159-df36-cb6b323f663b"
   },
   "outputs": [
    {
     "data": {
      "text/plain": [
       "174"
      ]
     },
     "execution_count": 38,
     "metadata": {},
     "output_type": "execute_result"
    }
   ],
   "source": [
    "songs['genre_ids'] = songs['genre_ids'].apply(save_one_genre)\n",
    "len(songs['genre_ids'].unique())"
   ]
  },
  {
   "cell_type": "markdown",
   "metadata": {
    "id": "svNQ9Elg_hT_"
   },
   "source": [
    "Обработаем артистов"
   ]
  },
  {
   "cell_type": "code",
   "execution_count": 39,
   "metadata": {
    "colab": {
     "base_uri": "https://localhost:8080/",
     "height": 35
    },
    "id": "xgz7K--9_jOJ",
    "outputId": "f63930dc-03b4-46d2-ad25-b72479c1116a"
   },
   "outputs": [
    {
     "data": {
      "text/plain": [
       "'｢冬のソナタ｣ オルゴールサウンドコレクション'"
      ]
     },
     "execution_count": 39,
     "metadata": {},
     "output_type": "execute_result"
    }
   ],
   "source": [
    "artists = songs['artist_name'].value_counts()\n",
    "artists = pd.DataFrame({ 'artist_name' : artists.index, 'count' : artists.values })\n",
    "\n",
    "most_popular_artist = artists.max()['artist_name']\n",
    "most_popular_artist"
   ]
  },
  {
   "cell_type": "code",
   "execution_count": 40,
   "metadata": {
    "colab": {
     "base_uri": "https://localhost:8080/"
    },
    "id": "6y9A9UrvrJI8",
    "outputId": "02f19f8b-1852-4870-8402-299b6e79b0dd"
   },
   "outputs": [
    {
     "data": {
      "text/plain": [
       "user_id                     0\n",
       "song_id                     0\n",
       "source_system_tab       24849\n",
       "source_screen_name     414804\n",
       "source_type             21539\n",
       "target                      0\n",
       "city                        0\n",
       "bd                          0\n",
       "registration_year           0\n",
       "registration_month          0\n",
       "registration_day            0\n",
       "expiration_year             0\n",
       "expiration_month            0\n",
       "expiration_day              0\n",
       "subscription_length         0\n",
       "subscription_level          0\n",
       "registration_method         0\n",
       "song_length              9251\n",
       "genre_ids                9251\n",
       "artist_name              9251\n",
       "language                 9251\n",
       "dtype: int64"
      ]
     },
     "execution_count": 40,
     "metadata": {},
     "output_type": "execute_result"
    }
   ],
   "source": [
    "train, test = merge(songs, 'song_id')\n",
    "del songs\n",
    "train.isnull().sum()"
   ]
  },
  {
   "cell_type": "markdown",
   "metadata": {
    "id": "n3KWqamJZl6c"
   },
   "source": [
    "### Анализ Song Extra Info:"
   ]
  },
  {
   "cell_type": "code",
   "execution_count": 41,
   "metadata": {
    "colab": {
     "base_uri": "https://localhost:8080/"
    },
    "id": "2U-LdbstZpL4",
    "outputId": "91f4c13d-8e87-460b-fcb7-9a3874da5caa"
   },
   "outputs": [
    {
     "data": {
      "text/plain": [
       "(                                        song_id             name          isrc\n",
       " 0  LP7pLJoJFBvyuUwvu+oLzjT+bI+UeBPURCecJsX1jjs=               我們  TWUM71200043\n",
       " 1  ClazTFnk6r0Bnuie44bocdNMM3rdlrq0bCGAsGUWcHE=  Let Me Love You  QMZSY1600015\n",
       " 2  u2ja/bZE3zhCGxvbbOB3zOoUjx27u40cf5g09UXMoKQ=              原諒我  TWA530887303\n",
       " 3  92Fqsy0+p6+RHe2EoLKjHahORHR1Kq1TBJoClW9v+Ts=          Classic  USSM11301446\n",
       " 4  0QFmz/+rJy1Q56C1DuYqT9hKKqi5TUqx0sN0IwvoHrw=             愛投羅網  TWA471306001,\n",
       " song_id    object\n",
       " name       object\n",
       " isrc       object\n",
       " dtype: object)"
      ]
     },
     "execution_count": 41,
     "metadata": {},
     "output_type": "execute_result"
    }
   ],
   "source": [
    "songs_extra.head(), songs_extra.dtypes"
   ]
  },
  {
   "cell_type": "markdown",
   "metadata": {
    "id": "wqax_hazwf3R"
   },
   "source": [
    "[Что такое ISRC?](https://www.ppluk.com/membership/more-information/isrc/)"
   ]
  },
  {
   "cell_type": "code",
   "execution_count": 42,
   "metadata": {
    "id": "_PvrMCaWwgUi"
   },
   "outputs": [],
   "source": [
    "def isrc_to_year(isrc):\n",
    "    year = int(isrc[5:7])\n",
    "    if year > 17:\n",
    "        return 1900 + year\n",
    "    else:\n",
    "        return 2000 + year\n",
    "\n",
    "def isrc_to_country_code(isrc):\n",
    "    return isrc[:2]\n",
    "\n",
    "def isrc_to_reg_code(isrc):\n",
    "    return isrc[7:]"
   ]
  },
  {
   "cell_type": "code",
   "execution_count": 43,
   "metadata": {
    "colab": {
     "base_uri": "https://localhost:8080/"
    },
    "id": "l5Y9DT_LxGLm",
    "outputId": "576387b7-a484-4f8b-cf01-679c76279847"
   },
   "outputs": [
    {
     "data": {
      "text/plain": [
       "((2159423, 1), (2295971, 3))"
      ]
     },
     "execution_count": 43,
     "metadata": {},
     "output_type": "execute_result"
    }
   ],
   "source": [
    "songs_na = pd.DataFrame({ 'isrc' : songs_extra['isrc'].dropna().astype(str) })\n",
    "songs_na.shape, songs_extra.shape"
   ]
  },
  {
   "cell_type": "code",
   "execution_count": 44,
   "metadata": {
    "colab": {
     "base_uri": "https://localhost:8080/"
    },
    "id": "7sg54EGd2Ck0",
    "outputId": "2f5df713-ee90-4d94-9235-fd552125465d"
   },
   "outputs": [
    {
     "name": "stdout",
     "output_type": "stream",
     "text": [
      "\n",
      "years:         \n",
      "2015    268266\n",
      "2016    254342\n",
      "2014    211560\n",
      "2013    136376\n",
      "2012    130063\n",
      "         ...  \n",
      "1945        86\n",
      "1944        79\n",
      "1928        78\n",
      "1943        70\n",
      "1948        38\n",
      "Name: year, Length: 100, dtype: int64\n",
      "\n",
      "country codes: \n",
      "US    651830\n",
      "GB    310782\n",
      "DE    194045\n",
      "FR    148459\n",
      "TC    104693\n",
      "       ...  \n",
      "PK         1\n",
      "LF         1\n",
      "UX         1\n",
      "YW         1\n",
      "AC         1\n",
      "Name: country_code, Length: 200, dtype: int64\n",
      "\n",
      "reg codes:    \n",
      "00001    11162\n",
      "00002     8854\n",
      "00003     7843\n",
      "00004     7300\n",
      "00005     7015\n",
      "         ...  \n",
      "84475        1\n",
      "54625        1\n",
      "99553        1\n",
      "98520        1\n",
      "77681        1\n",
      "Name: reg_org, Length: 99806, dtype: int64\n",
      "      \n"
     ]
    }
   ],
   "source": [
    "songs_na['year']         = songs_na.isrc.apply(isrc_to_year)\n",
    "songs_na['country_code'] = songs_na.isrc.apply(isrc_to_country_code)\n",
    "songs_na['reg_org']      = songs_na.isrc.apply(isrc_to_reg_code)\n",
    "\n",
    "print('''\n",
    "years:         \n",
    "{}\n",
    "\n",
    "country codes: \n",
    "{}\n",
    "\n",
    "reg codes:    \n",
    "{}\n",
    "      '''\n",
    "      .format(songs_na.year.value_counts(), \n",
    "              songs_na.country_code.value_counts(),\n",
    "              songs_na.reg_org.value_counts()))\n",
    "\n",
    "most_common_year = 15\n",
    "most_common_country_code = 'US'\n",
    "most_common_reg_code = '00001'"
   ]
  },
  {
   "cell_type": "code",
   "execution_count": 45,
   "metadata": {
    "id": "QIPSJg6n1Wp7"
   },
   "outputs": [],
   "source": [
    "isrc_nulls = songs_extra['isrc'].isnull()\n",
    "\n",
    "songs_extra['song_registration_year'] = most_common_year\n",
    "songs_extra['song_registration_year'] = songs_extra.song_registration_year.astype(np.uint8)\n",
    "songs_extra['song_country_code'] = most_common_country_code\n",
    "songs_extra['song_registration_organisation'] = most_common_reg_code"
   ]
  },
  {
   "cell_type": "code",
   "execution_count": 46,
   "metadata": {
    "colab": {
     "base_uri": "https://localhost:8080/",
     "height": 275
    },
    "id": "mdWRyKhb6uQR",
    "outputId": "fec938c6-e6e0-49bb-a42d-15af4fe4c69c"
   },
   "outputs": [
    {
     "data": {
      "text/html": [
       "<div>\n",
       "<style scoped>\n",
       "    .dataframe tbody tr th:only-of-type {\n",
       "        vertical-align: middle;\n",
       "    }\n",
       "\n",
       "    .dataframe tbody tr th {\n",
       "        vertical-align: top;\n",
       "    }\n",
       "\n",
       "    .dataframe thead th {\n",
       "        text-align: right;\n",
       "    }\n",
       "</style>\n",
       "<table border=\"1\" class=\"dataframe\">\n",
       "  <thead>\n",
       "    <tr style=\"text-align: right;\">\n",
       "      <th></th>\n",
       "      <th>song_id</th>\n",
       "      <th>name</th>\n",
       "      <th>isrc</th>\n",
       "      <th>song_registration_year</th>\n",
       "      <th>song_country_code</th>\n",
       "      <th>song_registration_organisation</th>\n",
       "    </tr>\n",
       "  </thead>\n",
       "  <tbody>\n",
       "    <tr>\n",
       "      <th>0</th>\n",
       "      <td>LP7pLJoJFBvyuUwvu+oLzjT+bI+UeBPURCecJsX1jjs=</td>\n",
       "      <td>我們</td>\n",
       "      <td>TWUM71200043</td>\n",
       "      <td>2012</td>\n",
       "      <td>TW</td>\n",
       "      <td>00043</td>\n",
       "    </tr>\n",
       "    <tr>\n",
       "      <th>1</th>\n",
       "      <td>ClazTFnk6r0Bnuie44bocdNMM3rdlrq0bCGAsGUWcHE=</td>\n",
       "      <td>Let Me Love You</td>\n",
       "      <td>QMZSY1600015</td>\n",
       "      <td>2016</td>\n",
       "      <td>QM</td>\n",
       "      <td>00015</td>\n",
       "    </tr>\n",
       "    <tr>\n",
       "      <th>2</th>\n",
       "      <td>u2ja/bZE3zhCGxvbbOB3zOoUjx27u40cf5g09UXMoKQ=</td>\n",
       "      <td>原諒我</td>\n",
       "      <td>TWA530887303</td>\n",
       "      <td>2008</td>\n",
       "      <td>TW</td>\n",
       "      <td>87303</td>\n",
       "    </tr>\n",
       "    <tr>\n",
       "      <th>3</th>\n",
       "      <td>92Fqsy0+p6+RHe2EoLKjHahORHR1Kq1TBJoClW9v+Ts=</td>\n",
       "      <td>Classic</td>\n",
       "      <td>USSM11301446</td>\n",
       "      <td>2013</td>\n",
       "      <td>US</td>\n",
       "      <td>01446</td>\n",
       "    </tr>\n",
       "    <tr>\n",
       "      <th>4</th>\n",
       "      <td>0QFmz/+rJy1Q56C1DuYqT9hKKqi5TUqx0sN0IwvoHrw=</td>\n",
       "      <td>愛投羅網</td>\n",
       "      <td>TWA471306001</td>\n",
       "      <td>2013</td>\n",
       "      <td>TW</td>\n",
       "      <td>06001</td>\n",
       "    </tr>\n",
       "  </tbody>\n",
       "</table>\n",
       "</div>"
      ],
      "text/plain": [
       "                                        song_id             name  \\\n",
       "0  LP7pLJoJFBvyuUwvu+oLzjT+bI+UeBPURCecJsX1jjs=               我們   \n",
       "1  ClazTFnk6r0Bnuie44bocdNMM3rdlrq0bCGAsGUWcHE=  Let Me Love You   \n",
       "2  u2ja/bZE3zhCGxvbbOB3zOoUjx27u40cf5g09UXMoKQ=              原諒我   \n",
       "3  92Fqsy0+p6+RHe2EoLKjHahORHR1Kq1TBJoClW9v+Ts=          Classic   \n",
       "4  0QFmz/+rJy1Q56C1DuYqT9hKKqi5TUqx0sN0IwvoHrw=             愛投羅網   \n",
       "\n",
       "           isrc  song_registration_year song_country_code  \\\n",
       "0  TWUM71200043                    2012                TW   \n",
       "1  QMZSY1600015                    2016                QM   \n",
       "2  TWA530887303                    2008                TW   \n",
       "3  USSM11301446                    2013                US   \n",
       "4  TWA471306001                    2013                TW   \n",
       "\n",
       "  song_registration_organisation  \n",
       "0                          00043  \n",
       "1                          00015  \n",
       "2                          87303  \n",
       "3                          01446  \n",
       "4                          06001  "
      ]
     },
     "execution_count": 46,
     "metadata": {},
     "output_type": "execute_result"
    }
   ],
   "source": [
    "def apply_transform(name, func):\n",
    "    mask = ~isrc_nulls\n",
    "    songs_extra.loc[mask, name] = songs_extra.loc[mask, 'isrc'].apply(func)\n",
    "\n",
    "apply_transform('song_registration_year', isrc_to_year)\n",
    "apply_transform('song_country_code', isrc_to_country_code)\n",
    "apply_transform('song_registration_organisation', isrc_to_reg_code)\n",
    "\n",
    "songs_extra.head()"
   ]
  },
  {
   "cell_type": "code",
   "execution_count": 47,
   "metadata": {
    "colab": {
     "base_uri": "https://localhost:8080/"
    },
    "id": "fYunFvu2xhz6",
    "outputId": "75bcd3b5-1b4c-4afc-d4d2-b5aef190b952"
   },
   "outputs": [
    {
     "data": {
      "text/plain": [
       "user_id                                0\n",
       "song_id                                0\n",
       "source_system_tab                  24849\n",
       "source_screen_name                414804\n",
       "source_type                        21539\n",
       "target                                 0\n",
       "city                                   0\n",
       "bd                                     0\n",
       "registration_year                      0\n",
       "registration_month                     0\n",
       "registration_day                       0\n",
       "expiration_year                        0\n",
       "expiration_month                       0\n",
       "expiration_day                         0\n",
       "subscription_length                    0\n",
       "subscription_level                     0\n",
       "registration_method                    0\n",
       "song_length                         9251\n",
       "genre_ids                           9251\n",
       "artist_name                         9251\n",
       "language                            9251\n",
       "song_registration_year              1455\n",
       "song_country_code                   1455\n",
       "song_registration_organisation      1455\n",
       "dtype: int64"
      ]
     },
     "execution_count": 47,
     "metadata": {},
     "output_type": "execute_result"
    }
   ],
   "source": [
    "songs_extra = songs_extra.drop(['isrc', 'name'], axis=1)\n",
    "train, test = merge(songs_extra, 'song_id')\n",
    "\n",
    "del songs_extra\n",
    "\n",
    "train.isnull().sum()"
   ]
  },
  {
   "cell_type": "markdown",
   "metadata": {
    "id": "JIoJHv8grJI-"
   },
   "source": [
    "### Обработка train dataset:"
   ]
  },
  {
   "cell_type": "code",
   "execution_count": 48,
   "metadata": {
    "colab": {
     "base_uri": "https://localhost:8080/"
    },
    "id": "nrzPPw5-rJI-",
    "outputId": "16f3f686-32cc-4fde-d8f6-31b00f8c9238"
   },
   "outputs": [
    {
     "data": {
      "text/plain": [
       "user_id                            object\n",
       "song_id                            object\n",
       "source_system_tab                  object\n",
       "source_screen_name                 object\n",
       "source_type                        object\n",
       "target                              uint8\n",
       "city                                uint8\n",
       "bd                                  int16\n",
       "registration_year                   int64\n",
       "registration_month                  int64\n",
       "registration_day                    int64\n",
       "expiration_year                     int64\n",
       "expiration_month                    int64\n",
       "expiration_day                      int64\n",
       "subscription_length                 int32\n",
       "subscription_level                  int64\n",
       "registration_method                 int64\n",
       "song_length                       float32\n",
       "genre_ids                          object\n",
       "artist_name                        object\n",
       "language                          float64\n",
       "song_registration_year            float64\n",
       "song_country_code                  object\n",
       "song_registration_organisation     object\n",
       "dtype: object"
      ]
     },
     "execution_count": 48,
     "metadata": {},
     "output_type": "execute_result"
    }
   ],
   "source": [
    "train.dtypes"
   ]
  },
  {
   "cell_type": "code",
   "execution_count": 49,
   "metadata": {
    "id": "2BgB4SKirJI_"
   },
   "outputs": [],
   "source": [
    "def process_train_column(name):\n",
    "    global train\n",
    "    count, bar = plot_bar(train, index_name=name)\n",
    "    print('{}{}nulls: {}'.format(name, curve_sep, train[name].isnull().sum()))\n",
    "    return count"
   ]
  },
  {
   "cell_type": "markdown",
   "metadata": {
    "id": "MXjvx6otrJI_"
   },
   "source": [
    "**Source system tab -- то как пользователь вызвал событие прослушивания**"
   ]
  },
  {
   "cell_type": "code",
   "execution_count": 50,
   "metadata": {
    "colab": {
     "base_uri": "https://localhost:8080/",
     "height": 712
    },
    "id": "wLQ21D6vrJJA",
    "outputId": "8d92d44a-be76-41d3-d9d8-a8552f5a4c7f",
    "scrolled": true
   },
   "outputs": [
    {
     "name": "stdout",
     "output_type": "stream",
     "text": [
      "source_system_tab\n",
      "~~~~~~~~~~~~~~~~~~~~~~~~~~~~~~~~\n",
      "nulls: 24849\n"
     ]
    },
    {
     "data": {
      "text/html": [
       "<div>\n",
       "<style scoped>\n",
       "    .dataframe tbody tr th:only-of-type {\n",
       "        vertical-align: middle;\n",
       "    }\n",
       "\n",
       "    .dataframe tbody tr th {\n",
       "        vertical-align: top;\n",
       "    }\n",
       "\n",
       "    .dataframe thead th {\n",
       "        text-align: right;\n",
       "    }\n",
       "</style>\n",
       "<table border=\"1\" class=\"dataframe\">\n",
       "  <thead>\n",
       "    <tr style=\"text-align: right;\">\n",
       "      <th></th>\n",
       "      <th>source_system_tab</th>\n",
       "      <th>count</th>\n",
       "      <th>%</th>\n",
       "    </tr>\n",
       "  </thead>\n",
       "  <tbody>\n",
       "    <tr>\n",
       "      <th>0</th>\n",
       "      <td>discover</td>\n",
       "      <td>2179252</td>\n",
       "      <td>29.639327</td>\n",
       "    </tr>\n",
       "    <tr>\n",
       "      <th>1</th>\n",
       "      <td>explore</td>\n",
       "      <td>167949</td>\n",
       "      <td>2.284222</td>\n",
       "    </tr>\n",
       "    <tr>\n",
       "      <th>2</th>\n",
       "      <td>listen with</td>\n",
       "      <td>212266</td>\n",
       "      <td>2.886964</td>\n",
       "    </tr>\n",
       "    <tr>\n",
       "      <th>3</th>\n",
       "      <td>my library</td>\n",
       "      <td>3684730</td>\n",
       "      <td>50.114865</td>\n",
       "    </tr>\n",
       "    <tr>\n",
       "      <th>4</th>\n",
       "      <td>notification</td>\n",
       "      <td>6185</td>\n",
       "      <td>0.084120</td>\n",
       "    </tr>\n",
       "    <tr>\n",
       "      <th>5</th>\n",
       "      <td>radio</td>\n",
       "      <td>476701</td>\n",
       "      <td>6.483462</td>\n",
       "    </tr>\n",
       "    <tr>\n",
       "      <th>6</th>\n",
       "      <td>search</td>\n",
       "      <td>623286</td>\n",
       "      <td>8.477119</td>\n",
       "    </tr>\n",
       "    <tr>\n",
       "      <th>7</th>\n",
       "      <td>settings</td>\n",
       "      <td>2200</td>\n",
       "      <td>0.029922</td>\n",
       "    </tr>\n",
       "  </tbody>\n",
       "</table>\n",
       "</div>"
      ],
      "text/plain": [
       "  source_system_tab    count          %\n",
       "0          discover  2179252  29.639327\n",
       "1           explore   167949   2.284222\n",
       "2       listen with   212266   2.886964\n",
       "3        my library  3684730  50.114865\n",
       "4      notification     6185   0.084120\n",
       "5             radio   476701   6.483462\n",
       "6            search   623286   8.477119\n",
       "7          settings     2200   0.029922"
      ]
     },
     "execution_count": 50,
     "metadata": {},
     "output_type": "execute_result"
    },
    {
     "data": {
      "image/png": "[encoded data removed]",
      "text/plain": [
       "<Figure size 360x360 with 1 Axes>"
      ]
     },
     "metadata": {
      "needs_background": "light"
     },
     "output_type": "display_data"
    }
   ],
   "source": [
    "count = process_train_column('source_system_tab')\n",
    "count"
   ]
  },
  {
   "cell_type": "markdown",
   "metadata": {
    "id": "OMmAHvWErJJA"
   },
   "source": [
    "**Удалим строки с нулами их всего 25к:**"
   ]
  },
  {
   "cell_type": "code",
   "execution_count": 51,
   "metadata": {
    "colab": {
     "base_uri": "https://localhost:8080/",
     "height": 35
    },
    "id": "xWWk3LjFrJJA",
    "outputId": "5033e9da-ca82-41ed-a1f3-a78e58509d74"
   },
   "outputs": [
    {
     "data": {
      "text/plain": [
       "'my library'"
      ]
     },
     "execution_count": 51,
     "metadata": {},
     "output_type": "execute_result"
    }
   ],
   "source": [
    "most_popular_system_tab = count.loc[count['count'].idxmax(), 'source_system_tab']\n",
    "most_popular_system_tab"
   ]
  },
  {
   "cell_type": "markdown",
   "metadata": {
    "id": "84-OZ2KVrJJB"
   },
   "source": [
    "**Source screen name**"
   ]
  },
  {
   "cell_type": "code",
   "execution_count": 52,
   "metadata": {
    "colab": {
     "base_uri": "https://localhost:8080/",
     "height": 1000
    },
    "id": "9_BWGxLtrJJB",
    "outputId": "0890cb8c-61df-46e8-9d72-cfc12a9d0fd6",
    "scrolled": true
   },
   "outputs": [
    {
     "name": "stdout",
     "output_type": "stream",
     "text": [
      "source_screen_name\n",
      "~~~~~~~~~~~~~~~~~~~~~~~~~~~~~~~~\n",
      "nulls: 414804\n"
     ]
    },
    {
     "data": {
      "text/html": [
       "<div>\n",
       "<style scoped>\n",
       "    .dataframe tbody tr th:only-of-type {\n",
       "        vertical-align: middle;\n",
       "    }\n",
       "\n",
       "    .dataframe tbody tr th {\n",
       "        vertical-align: top;\n",
       "    }\n",
       "\n",
       "    .dataframe thead th {\n",
       "        text-align: right;\n",
       "    }\n",
       "</style>\n",
       "<table border=\"1\" class=\"dataframe\">\n",
       "  <thead>\n",
       "    <tr style=\"text-align: right;\">\n",
       "      <th></th>\n",
       "      <th>source_screen_name</th>\n",
       "      <th>count</th>\n",
       "      <th>%</th>\n",
       "    </tr>\n",
       "  </thead>\n",
       "  <tbody>\n",
       "    <tr>\n",
       "      <th>0</th>\n",
       "      <td>Album more</td>\n",
       "      <td>420156</td>\n",
       "      <td>6.034458</td>\n",
       "    </tr>\n",
       "    <tr>\n",
       "      <th>1</th>\n",
       "      <td>Artist more</td>\n",
       "      <td>252429</td>\n",
       "      <td>3.625492</td>\n",
       "    </tr>\n",
       "    <tr>\n",
       "      <th>2</th>\n",
       "      <td>Concert</td>\n",
       "      <td>47</td>\n",
       "      <td>0.000675</td>\n",
       "    </tr>\n",
       "    <tr>\n",
       "      <th>3</th>\n",
       "      <td>Discover Chart</td>\n",
       "      <td>213658</td>\n",
       "      <td>3.068646</td>\n",
       "    </tr>\n",
       "    <tr>\n",
       "      <th>4</th>\n",
       "      <td>Discover Feature</td>\n",
       "      <td>244246</td>\n",
       "      <td>3.507964</td>\n",
       "    </tr>\n",
       "    <tr>\n",
       "      <th>5</th>\n",
       "      <td>Discover Genre</td>\n",
       "      <td>82202</td>\n",
       "      <td>1.180620</td>\n",
       "    </tr>\n",
       "    <tr>\n",
       "      <th>6</th>\n",
       "      <td>Discover New</td>\n",
       "      <td>15955</td>\n",
       "      <td>0.229152</td>\n",
       "    </tr>\n",
       "    <tr>\n",
       "      <th>7</th>\n",
       "      <td>Explore</td>\n",
       "      <td>72342</td>\n",
       "      <td>1.039006</td>\n",
       "    </tr>\n",
       "    <tr>\n",
       "      <th>8</th>\n",
       "      <td>Local playlist more</td>\n",
       "      <td>3228202</td>\n",
       "      <td>46.364799</td>\n",
       "    </tr>\n",
       "    <tr>\n",
       "      <th>9</th>\n",
       "      <td>My library</td>\n",
       "      <td>75980</td>\n",
       "      <td>1.091257</td>\n",
       "    </tr>\n",
       "    <tr>\n",
       "      <th>10</th>\n",
       "      <td>My library_Search</td>\n",
       "      <td>6451</td>\n",
       "      <td>0.092652</td>\n",
       "    </tr>\n",
       "    <tr>\n",
       "      <th>11</th>\n",
       "      <td>Online playlist more</td>\n",
       "      <td>1294689</td>\n",
       "      <td>18.594870</td>\n",
       "    </tr>\n",
       "    <tr>\n",
       "      <th>12</th>\n",
       "      <td>Others profile more</td>\n",
       "      <td>201795</td>\n",
       "      <td>2.898265</td>\n",
       "    </tr>\n",
       "    <tr>\n",
       "      <th>13</th>\n",
       "      <td>Payment</td>\n",
       "      <td>12</td>\n",
       "      <td>0.000172</td>\n",
       "    </tr>\n",
       "    <tr>\n",
       "      <th>14</th>\n",
       "      <td>Radio</td>\n",
       "      <td>474467</td>\n",
       "      <td>6.814495</td>\n",
       "    </tr>\n",
       "    <tr>\n",
       "      <th>15</th>\n",
       "      <td>Search</td>\n",
       "      <td>298487</td>\n",
       "      <td>4.286996</td>\n",
       "    </tr>\n",
       "    <tr>\n",
       "      <th>16</th>\n",
       "      <td>Search Home</td>\n",
       "      <td>13482</td>\n",
       "      <td>0.193634</td>\n",
       "    </tr>\n",
       "    <tr>\n",
       "      <th>17</th>\n",
       "      <td>Search Trends</td>\n",
       "      <td>13632</td>\n",
       "      <td>0.195789</td>\n",
       "    </tr>\n",
       "    <tr>\n",
       "      <th>18</th>\n",
       "      <td>Self profile more</td>\n",
       "      <td>212</td>\n",
       "      <td>0.003045</td>\n",
       "    </tr>\n",
       "    <tr>\n",
       "      <th>19</th>\n",
       "      <td>Unknown</td>\n",
       "      <td>54170</td>\n",
       "      <td>0.778012</td>\n",
       "    </tr>\n",
       "  </tbody>\n",
       "</table>\n",
       "</div>"
      ],
      "text/plain": [
       "      source_screen_name    count          %\n",
       "0             Album more   420156   6.034458\n",
       "1            Artist more   252429   3.625492\n",
       "2                Concert       47   0.000675\n",
       "3         Discover Chart   213658   3.068646\n",
       "4       Discover Feature   244246   3.507964\n",
       "5         Discover Genre    82202   1.180620\n",
       "6           Discover New    15955   0.229152\n",
       "7                Explore    72342   1.039006\n",
       "8    Local playlist more  3228202  46.364799\n",
       "9             My library    75980   1.091257\n",
       "10     My library_Search     6451   0.092652\n",
       "11  Online playlist more  1294689  18.594870\n",
       "12   Others profile more   201795   2.898265\n",
       "13               Payment       12   0.000172\n",
       "14                 Radio   474467   6.814495\n",
       "15                Search   298487   4.286996\n",
       "16           Search Home    13482   0.193634\n",
       "17         Search Trends    13632   0.195789\n",
       "18     Self profile more      212   0.003045\n",
       "19               Unknown    54170   0.778012"
      ]
     },
     "execution_count": 52,
     "metadata": {},
     "output_type": "execute_result"
    },
    {
     "data": {
      "image/png": "[encoded data removed]",
      "text/plain": [
       "<Figure size 360x360 with 1 Axes>"
      ]
     },
     "metadata": {
      "needs_background": "light"
     },
     "output_type": "display_data"
    }
   ],
   "source": [
    "count = process_train_column('source_screen_name')\n",
    "count"
   ]
  },
  {
   "cell_type": "markdown",
   "metadata": {
    "id": "M5QQ_RSwrJJB"
   },
   "source": [
    "Удаляем строки с payment, concert, self profile more так для них очень мало данных."
   ]
  },
  {
   "cell_type": "code",
   "execution_count": 53,
   "metadata": {
    "colab": {
     "base_uri": "https://localhost:8080/",
     "height": 35
    },
    "id": "6PKiNPHxrJJC",
    "outputId": "e87d8649-f386-42a4-d831-2701815c8444",
    "scrolled": true
   },
   "outputs": [
    {
     "data": {
      "text/plain": [
       "'Local playlist more'"
      ]
     },
     "execution_count": 53,
     "metadata": {},
     "output_type": "execute_result"
    }
   ],
   "source": [
    "most_popular_source_screen = count.loc[count['count'].idxmax(), 'source_screen_name']\n",
    "\n",
    "mask = (train.source_screen_name != 'Payment') \\\n",
    "     & (train.source_screen_name != 'Concert') \\\n",
    "     & (train.source_screen_name != 'Self profile more')\n",
    "\n",
    "train = train[mask]\n",
    "\n",
    "most_popular_source_screen"
   ]
  },
  {
   "cell_type": "markdown",
   "metadata": {
    "id": "znBs1iIorJJC"
   },
   "source": [
    "**Source type**"
   ]
  },
  {
   "cell_type": "code",
   "execution_count": 54,
   "metadata": {
    "colab": {
     "base_uri": "https://localhost:8080/",
     "height": 474
    },
    "id": "6cSkGHl_rJJD",
    "outputId": "73382129-9207-4d71-8561-49c19bd2ffd4"
   },
   "outputs": [
    {
     "name": "stdout",
     "output_type": "stream",
     "text": [
      "source_type\n",
      "~~~~~~~~~~~~~~~~~~~~~~~~~~~~~~~~\n",
      "nulls: 21539\n"
     ]
    },
    {
     "data": {
      "image/png": "[encoded data removed]",
      "text/plain": [
       "<Figure size 360x360 with 1 Axes>"
      ]
     },
     "metadata": {
      "needs_background": "light"
     },
     "output_type": "display_data"
    }
   ],
   "source": [
    "count = process_train_column('source_type')"
   ]
  },
  {
   "cell_type": "markdown",
   "metadata": {
    "id": "XjGtgyHqrJJD"
   },
   "source": [
    "**Удалим строки с нулами их всего 25к:**"
   ]
  },
  {
   "cell_type": "code",
   "execution_count": 55,
   "metadata": {
    "colab": {
     "base_uri": "https://localhost:8080/",
     "height": 35
    },
    "id": "Sa_475nurJJE",
    "outputId": "435ad96a-1ec2-418e-da74-850538975ece"
   },
   "outputs": [
    {
     "data": {
      "text/plain": [
       "'local-library'"
      ]
     },
     "execution_count": 55,
     "metadata": {},
     "output_type": "execute_result"
    }
   ],
   "source": [
    "most_popular_source_type = count.loc[count['count'].idxmax(), 'source_type']\n",
    "most_popular_source_type"
   ]
  },
  {
   "cell_type": "markdown",
   "metadata": {
    "id": "s3qC_eqlrJJE"
   },
   "source": [
    "## Запуск CatBoost"
   ]
  },
  {
   "cell_type": "markdown",
   "metadata": {
    "id": "MN3WU7kxrJJF"
   },
   "source": [
    "**Train dtypes**"
   ]
  },
  {
   "cell_type": "code",
   "execution_count": 56,
   "metadata": {
    "colab": {
     "base_uri": "https://localhost:8080/"
    },
    "id": "Ef00GRMX9Xi9",
    "outputId": "9e34a127-9004-4215-9829-374856adfb3b"
   },
   "outputs": [
    {
     "data": {
      "text/plain": [
       "user_id                            object\n",
       "song_id                            object\n",
       "source_system_tab                  object\n",
       "source_screen_name                 object\n",
       "source_type                        object\n",
       "target                              uint8\n",
       "city                                uint8\n",
       "bd                                  int16\n",
       "registration_year                   int64\n",
       "registration_month                  int64\n",
       "registration_day                    int64\n",
       "expiration_year                     int64\n",
       "expiration_month                    int64\n",
       "expiration_day                      int64\n",
       "subscription_length                 int32\n",
       "subscription_level                  int64\n",
       "registration_method                 int64\n",
       "song_length                       float32\n",
       "genre_ids                          object\n",
       "artist_name                        object\n",
       "language                          float64\n",
       "song_registration_year            float64\n",
       "song_country_code                  object\n",
       "song_registration_organisation     object\n",
       "dtype: object"
      ]
     },
     "execution_count": 56,
     "metadata": {},
     "output_type": "execute_result"
    }
   ],
   "source": [
    "train.dtypes"
   ]
  },
  {
   "cell_type": "code",
   "execution_count": 57,
   "metadata": {
    "id": "UHrDWWzfrJJF",
    "scrolled": true
   },
   "outputs": [],
   "source": [
    "def warn_on(name):\n",
    "    return 'Warning: {} not in columns'.format(name)\n",
    "\n",
    "def to_type(frame, name, dtype):\n",
    "    if name in frame.columns:\n",
    "        frame[name] = frame[name].astype(dtype)\n",
    "    else:\n",
    "        RuntimeWarning(warn_on(name))\n",
    "\n",
    "def to_category(frame, names):\n",
    "    for name in names:\n",
    "        to_type(frame=frame, name=name, dtype='category')"
   ]
  },
  {
   "cell_type": "code",
   "execution_count": 58,
   "metadata": {
    "colab": {
     "base_uri": "https://localhost:8080/"
    },
    "id": "mCyEP0bWvf0U",
    "outputId": "9acbb17a-1f09-4317-99bf-b5e51747c2bd"
   },
   "outputs": [
    {
     "data": {
      "text/plain": [
       "user_id                                0\n",
       "song_id                                0\n",
       "source_system_tab                  24849\n",
       "source_screen_name                414804\n",
       "source_type                        21539\n",
       "target                                 0\n",
       "city                                   0\n",
       "bd                                     0\n",
       "registration_year                      0\n",
       "registration_month                     0\n",
       "registration_day                       0\n",
       "expiration_year                        0\n",
       "expiration_month                       0\n",
       "expiration_day                         0\n",
       "subscription_length                    0\n",
       "subscription_level                     0\n",
       "registration_method                    0\n",
       "song_length                         9251\n",
       "genre_ids                           9251\n",
       "artist_name                         9251\n",
       "language                            9251\n",
       "song_registration_year              1455\n",
       "song_country_code                   1455\n",
       "song_registration_organisation      1455\n",
       "dtype: int64"
      ]
     },
     "execution_count": 58,
     "metadata": {},
     "output_type": "execute_result"
    }
   ],
   "source": [
    "cat_features = [ \n",
    "                # Sources\n",
    "                'source_system_tab', \n",
    "                'source_screen_name',\n",
    "                'source_type',\n",
    "\n",
    "                # Members\n",
    "                'city',\n",
    "                'subscription_level',\n",
    "                'registration_method',\n",
    "\n",
    "                #Songs\n",
    "                'genre_ids',\n",
    "                'language',\n",
    "                'artist_name',\n",
    "\n",
    "                # Dates\n",
    "                'registration_year',\n",
    "                'registration_month',\n",
    "                'registration_day',\n",
    "\n",
    "                'expiration_year',\n",
    "                'expiration_month',\n",
    "                'expiration_day',\n",
    "\n",
    "                # Songs extra\n",
    "                'song_registration_year',\n",
    "                'song_country_code',\n",
    "                'song_registration_organisation',\n",
    "]\n",
    "\n",
    "to_drop = [\n",
    "           'song_id', \n",
    "           'user_id',\n",
    "           'target',\n",
    "#            'user_to_genres', \n",
    "#            'user_to_artist'\n",
    "          #  'artist_name',\n",
    "          #  'registration_day',\n",
    "          #  'registration_month',\n",
    "          #  'registration_year',\n",
    "          #  'language',\n",
    "          #  'song_registration_organisation'\n",
    "          #  'registration_date',\n",
    "          #  'city',\n",
    "          #  'subscription_level',\n",
    "          #  'registration_method',\n",
    "          #  'genre_ids',\n",
    "          #  'language',\n",
    "          #  'song_registration_year',\n",
    "          #  'song_country_code',\n",
    "          #  'song_registration_organisation']\n",
    "]\n",
    "\n",
    "to_int = {\n",
    "    'language'               : np.uint8,\n",
    "    'song_registration_year' : np.uint32\n",
    "}\n",
    "\n",
    "train.isnull().sum()"
   ]
  },
  {
   "cell_type": "markdown",
   "metadata": {
    "id": "fI4yV1-oDbP2"
   },
   "source": [
    "Функция заполняющая пропуски наиболее популярным элементом из рассматриваемой категории"
   ]
  },
  {
   "cell_type": "code",
   "execution_count": 59,
   "metadata": {
    "id": "seNCeTUK_Qpp"
   },
   "outputs": [],
   "source": [
    "def fill_na(frame, name, value):\n",
    "    \"\"\"\n",
    "    Fills columns in frame with specified value.\n",
    "    \"\"\"\n",
    "    if name in frame.columns:\n",
    "        frame.loc[:, name] = frame[name].fillna(value)\n",
    "    else:\n",
    "        warn_on_name(name)\n",
    "\n",
    "\n",
    "def fill_na_(frame):\n",
    "    \"\"\"\n",
    "    Fills NA with all known column mean values\n",
    "    \"\"\"\n",
    "    # Songs\n",
    "    fill_na(frame, 'artist_name', most_popular_artist)\n",
    "    fill_na(frame, 'song_length', mean_song_length)\n",
    "    fill_na(frame, 'genre_ids', most_popular_genre)\n",
    "    fill_na(frame, 'language', most_popular_language)\n",
    "    fill_na(frame, 'song_registration_year', most_common_year)\n",
    "    fill_na(frame, 'song_country_code',  most_common_country_code)\n",
    "    fill_na(frame, 'song_registration_organisation', most_common_reg_code)\n",
    "\n",
    "    # Sources\n",
    "    fill_na(frame, 'source_type', most_popular_source_type)\n",
    "    fill_na(frame, 'source_system_tab', most_popular_system_tab)\n",
    "    fill_na(frame, 'source_screen_name', most_popular_source_screen)\n",
    "    "
   ]
  },
  {
   "cell_type": "code",
   "execution_count": 60,
   "metadata": {},
   "outputs": [],
   "source": [
    "def add_biases(dataset):\n",
    "    artists = dataset['artist_name']\n",
    "    genres  = dataset['genre_ids']\n",
    "    users   = dataset['user_id']\n",
    "\n",
    "    def user_to_item(items, name):\n",
    "        dataset['user_item'] = users.astype(str) + items.astype(str)\n",
    "        item_counts   = dataset['user_item'].value_counts()\n",
    "        dataset[name] = dataset['user_item'].apply(lambda item: item_counts[item])\n",
    "        dataset.drop(['user_item'], axis=1, inplace=True)\n",
    "        \n",
    "    artist_name_counts      = artists.value_counts()\n",
    "    dataset['artist_count'] = artists.apply(lambda a: artist_name_counts[a])\n",
    "    user_to_item(genres,  'user_genres_counter')\n",
    "    user_to_item(artists, 'user_artists_counter')     "
   ]
  },
  {
   "cell_type": "markdown",
   "metadata": {
    "id": "cFwW8cixDOhx"
   },
   "source": [
    "Функция позволяющий обрабатывать датасет либо выбрасывая все нулы, либо заполняя их средними значениями:"
   ]
  },
  {
   "cell_type": "code",
   "execution_count": 75,
   "metadata": {
    "id": "Pr140wTYBPsL"
   },
   "outputs": [],
   "source": [
    "def process_dataset(dataset, drop_na=False):\n",
    "    print('start processing...')\n",
    "    X_, y_ = None, None\n",
    "    if drop_na:\n",
    "        X_ = dataset.dropna()\n",
    "        y_ = X_.target\n",
    "    else:\n",
    "        X_ = copy(dataset)\n",
    "        y_ = X_.target\n",
    "        fill_na_(X_)\n",
    "      \n",
    "    for name, dtype in to_int.items():\n",
    "        X_[name] = X_[name].astype(dtype)\n",
    "     \n",
    "    print('categorizing...')\n",
    "    to_category(X_, cat_features)\n",
    "    \n",
    "    print('adding biases...')\n",
    "    add_biases(X_)\n",
    "    \n",
    "    print('finished')\n",
    "    \n",
    "    return X_.drop(to_drop, axis=1), y_"
   ]
  },
  {
   "cell_type": "markdown",
   "metadata": {
    "id": "4vnayVHnjYRS"
   },
   "source": [
    "Опишем нашу CatBoost модель:\n",
    "так как у нас задача предсказания 0 / 1 то будет учить LogLoss."
   ]
  },
  {
   "cell_type": "code",
   "execution_count": 62,
   "metadata": {
    "id": "pK3Pa25ErJJF"
   },
   "outputs": [],
   "source": [
    "def get_model(iterations=300):\n",
    "    \"\"\"\n",
    "    Creates custom CatBoost model.\n",
    "    \n",
    "    Documentation for hyperpararms: https://catboost.ai/docs/concepts/speed-up-training.html\n",
    "    \"\"\"\n",
    "    params = {\n",
    "      'loss_function'              : 'Logloss',\n",
    "      'custom_metric'              : 'AUC',\n",
    "      'train_dir'                  : 'train_log',\n",
    "      'max_ctr_complexity'         : 10, \n",
    "      'leaf_estimation_iterations' : 10,\n",
    "      'learning_rate'              : 0.05,\n",
    "      'iterations'                 : iterations    \n",
    "    }\n",
    "    return CatBoost(params=params)"
   ]
  },
  {
   "cell_type": "code",
   "execution_count": 63,
   "metadata": {
    "id": "zC4Pz3qorJJG"
   },
   "outputs": [],
   "source": [
    "def k_fold_train(X, y, iterations=300, k=5):\n",
    "    \"\"\"\n",
    "    returns: (aucs, models)\n",
    "    \"\"\"\n",
    "    kf = KFold(n_splits=k, shuffle=True)\n",
    "    aucs, models = [], []    \n",
    "    \n",
    "    for i, (train_index, test__index) in enumerate(kf.split(X)):\n",
    "        print('Fold {} / {}'.format(i + 1, k))\n",
    "        model = get_model(iterations=iterations)\n",
    "        \n",
    "        X_train, y_train = X.iloc[train_index], y.iloc[train_index]\n",
    "        X__test, y__test = X.iloc[test__index], y.iloc[test__index]\n",
    "        \n",
    "        X_train, X_eval, y_train, y_eval = train_test_split(X_train, \n",
    "                                                            y_train, \n",
    "                                                            test_size=0.1,\n",
    "                                                            shuffle=True)\n",
    "        \n",
    "        log_freq = iterations // 20 if iterations > 20 else 5\n",
    "        \n",
    "        model.fit(X_train, \n",
    "                  y_train,\n",
    "                  cat_features=cat_features,\n",
    "                  eval_set=(X_eval, y_eval),\n",
    "                  metric_period=log_freq,\n",
    "                  use_best_model=True,\n",
    "                  verbose=True\n",
    "                 )\n",
    "        \n",
    "        models.append(model)\n",
    "    \n",
    "        predicted = model.predict(X__test)\n",
    "        auc = roc_auc_score(y__test, predicted)\n",
    "        \n",
    "        aucs.append(auc)\n",
    "        print(\"AUC: {:07f}{}\".format(auc, curve_sep))\n",
    "        \n",
    "    return aucs, models   "
   ]
  },
  {
   "cell_type": "code",
   "execution_count": 64,
   "metadata": {
    "id": "ZD1XHzQurJJG",
    "scrolled": true
   },
   "outputs": [],
   "source": [
    "def train_random_sample(X, y, train_size, iterations=300, k=5):\n",
    "    \"\"\"\n",
    "    returns: (aucs, models), x_test, y_test\n",
    "    \"\"\"\n",
    "    X_train, X_test, y_train, y_test = train_test_split(X, \n",
    "                                                        y, \n",
    "                                                        shuffle=True, \n",
    "                                                        train_size=train_size)\n",
    "    \n",
    "    return k_fold_train(X_train, y_train, iterations=iterations, k=k), Xtest, y_test"
   ]
  },
  {
   "cell_type": "code",
   "execution_count": 65,
   "metadata": {},
   "outputs": [],
   "source": [
    "def train_ensemble(X, y, train_size, k=10, iterations=300):\n",
    "    models = []\n",
    "    for i in range(k):\n",
    "        print('Model {} / {}'.format(i + 1, k))\n",
    "        X_train, _, y_train, _ = train_test_split(X, y, shuffle=True, train_size=train_size)\n",
    "        \n",
    "        model = get_model(iterations)\n",
    "        model.fit(X_train, y_train, cat_features=cat_features, verbose=True, metric_period=iterations // 10)\n",
    "        models.append(model)\n",
    "        \n",
    "    return models    "
   ]
  },
  {
   "cell_type": "markdown",
   "metadata": {
    "id": "wHchI-xM9EF1"
   },
   "source": [
    "**Протестируем нашу модель на двух датасетах, в одном все NA строки будут выкинуты, в другом заполнены либо средними либо наиболее повторяющимися значениями.**\n",
    "\n",
    "Сначала протестируем на датасете в которым выкинуты все NA-value строки."
   ]
  },
  {
   "cell_type": "code",
   "execution_count": 66,
   "metadata": {},
   "outputs": [
    {
     "name": "stdout",
     "output_type": "stream",
     "text": [
      "start processing...\n"
     ]
    },
    {
     "name": "stderr",
     "output_type": "stream",
     "text": [
      "\n",
      "A value is trying to be set on a copy of a slice from a DataFrame.\n",
      "Try using .loc[row_indexer,col_indexer] = value instead\n",
      "\n",
      "See the caveats in the documentation: https://pandas.pydata.org/pandas-docs/stable/user_guide/indexing.html#returning-a-view-versus-a-copy\n"
     ]
    },
    {
     "name": "stdout",
     "output_type": "stream",
     "text": [
      "categorizing...\n"
     ]
    },
    {
     "name": "stderr",
     "output_type": "stream",
     "text": [
      "\n",
      "A value is trying to be set on a copy of a slice from a DataFrame.\n",
      "Try using .loc[row_indexer,col_indexer] = value instead\n",
      "\n",
      "See the caveats in the documentation: https://pandas.pydata.org/pandas-docs/stable/user_guide/indexing.html#returning-a-view-versus-a-copy\n"
     ]
    },
    {
     "name": "stdout",
     "output_type": "stream",
     "text": [
      "adding biases...\n"
     ]
    },
    {
     "name": "stderr",
     "output_type": "stream",
     "text": [
      "\n",
      "A value is trying to be set on a copy of a slice from a DataFrame.\n",
      "Try using .loc[row_indexer,col_indexer] = value instead\n",
      "\n",
      "See the caveats in the documentation: https://pandas.pydata.org/pandas-docs/stable/user_guide/indexing.html#returning-a-view-versus-a-copy\n",
      "\n",
      "A value is trying to be set on a copy of a slice from a DataFrame.\n",
      "Try using .loc[row_indexer,col_indexer] = value instead\n",
      "\n",
      "See the caveats in the documentation: https://pandas.pydata.org/pandas-docs/stable/user_guide/indexing.html#returning-a-view-versus-a-copy\n",
      "\n",
      "A value is trying to be set on a copy of a slice from a DataFrame\n",
      "\n",
      "See the caveats in the documentation: https://pandas.pydata.org/pandas-docs/stable/user_guide/indexing.html#returning-a-view-versus-a-copy\n"
     ]
    },
    {
     "name": "stdout",
     "output_type": "stream",
     "text": [
      "finished\n",
      "CPU times: user 1min 28s, sys: 22.6 s, total: 1min 50s\n",
      "Wall time: 1min 54s\n"
     ]
    },
    {
     "data": {
      "text/plain": [
       "(6949045, 24)"
      ]
     },
     "execution_count": 66,
     "metadata": {},
     "output_type": "execute_result"
    }
   ],
   "source": [
    "%%time\n",
    "X_droped_na, y_droped_na = process_dataset(train, drop_na=True)\n",
    "\n",
    "X_droped_na.shape"
   ]
  },
  {
   "cell_type": "code",
   "execution_count": 67,
   "metadata": {
    "colab": {
     "base_uri": "https://localhost:8080/"
    },
    "id": "ChLLPn-5aZ2P",
    "outputId": "ade46fa5-8a6a-45ce-b27d-972d77fe77c6"
   },
   "outputs": [
    {
     "name": "stdout",
     "output_type": "stream",
     "text": [
      "Fold 1 / 5\n",
      "0:\tlearn: 0.6882735\ttest: 0.6882987\tbest: 0.6882987 (0)\ttotal: 11.6s\tremaining: 19m 13s\n",
      "5:\tlearn: 0.6568202\ttest: 0.6558199\tbest: 0.6558199 (5)\ttotal: 1m 14s\tremaining: 19m 34s\n",
      "10:\tlearn: 0.6408759\ttest: 0.6396709\tbest: 0.6396709 (10)\ttotal: 2m 3s\tremaining: 16m 42s\n",
      "15:\tlearn: 0.6287755\ttest: 0.6273035\tbest: 0.6273035 (15)\ttotal: 2m 56s\tremaining: 15m 28s\n",
      "20:\tlearn: 0.6226824\ttest: 0.6211203\tbest: 0.6211203 (20)\ttotal: 3m 42s\tremaining: 13m 58s\n",
      "25:\tlearn: 0.6185048\ttest: 0.6168921\tbest: 0.6168921 (25)\ttotal: 4m 29s\tremaining: 12m 47s\n",
      "30:\tlearn: 0.6155948\ttest: 0.6139389\tbest: 0.6139389 (30)\ttotal: 5m 12s\tremaining: 11m 34s\n",
      "35:\tlearn: 0.6102046\ttest: 0.6074290\tbest: 0.6074290 (35)\ttotal: 6m 14s\tremaining: 11m 5s\n",
      "40:\tlearn: 0.6017196\ttest: 0.5965484\tbest: 0.5965484 (40)\ttotal: 7m 28s\tremaining: 10m 45s\n",
      "45:\tlearn: 0.5965521\ttest: 0.5899160\tbest: 0.5899160 (45)\ttotal: 8m 53s\tremaining: 10m 26s\n",
      "50:\tlearn: 0.5951058\ttest: 0.5885401\tbest: 0.5885401 (50)\ttotal: 9m 47s\tremaining: 9m 24s\n",
      "55:\tlearn: 0.5940461\ttest: 0.5875461\tbest: 0.5875461 (55)\ttotal: 10m 43s\tremaining: 8m 25s\n",
      "60:\tlearn: 0.5880865\ttest: 0.5814386\tbest: 0.5814386 (60)\ttotal: 11m 44s\tremaining: 7m 30s\n",
      "65:\tlearn: 0.5843921\ttest: 0.5776776\tbest: 0.5776776 (65)\ttotal: 12m 44s\tremaining: 6m 34s\n",
      "70:\tlearn: 0.5831690\ttest: 0.5763391\tbest: 0.5763391 (70)\ttotal: 13m 47s\tremaining: 5m 37s\n",
      "75:\tlearn: 0.5804189\ttest: 0.5732049\tbest: 0.5732049 (75)\ttotal: 14m 52s\tremaining: 4m 41s\n",
      "80:\tlearn: 0.5770842\ttest: 0.5694905\tbest: 0.5694905 (80)\ttotal: 16m 5s\tremaining: 3m 46s\n",
      "85:\tlearn: 0.5738521\ttest: 0.5658238\tbest: 0.5658238 (85)\ttotal: 17m 19s\tremaining: 2m 49s\n",
      "90:\tlearn: 0.5697738\ttest: 0.5613111\tbest: 0.5613111 (90)\ttotal: 18m 28s\tremaining: 1m 49s\n",
      "95:\tlearn: 0.5675209\ttest: 0.5588761\tbest: 0.5588761 (95)\ttotal: 19m 31s\tremaining: 48.8s\n",
      "99:\tlearn: 0.5660185\ttest: 0.5568512\tbest: 0.5568512 (99)\ttotal: 20m 26s\tremaining: 0us\n",
      "\n",
      "bestTest = 0.5568512036\n",
      "bestIteration = 99\n",
      "\n",
      "AUC: 0.796135\n",
      "~~~~~~~~~~~~~~~~~~~~~~~~~~~~~~~~\n",
      "\n",
      "Fold 2 / 5\n",
      "0:\tlearn: 0.6882774\ttest: 0.6882670\tbest: 0.6882670 (0)\ttotal: 15.5s\tremaining: 25m 34s\n",
      "5:\tlearn: 0.6701575\ttest: 0.6701063\tbest: 0.6701063 (5)\ttotal: 1m\tremaining: 15m 42s\n",
      "10:\tlearn: 0.6513274\ttest: 0.6506004\tbest: 0.6506004 (10)\ttotal: 1m 50s\tremaining: 14m 53s\n",
      "15:\tlearn: 0.6364561\ttest: 0.6350341\tbest: 0.6350341 (15)\ttotal: 2m 40s\tremaining: 14m 1s\n",
      "20:\tlearn: 0.6304133\ttest: 0.6289991\tbest: 0.6289991 (20)\ttotal: 3m 23s\tremaining: 12m 44s\n",
      "25:\tlearn: 0.6258381\ttest: 0.6243094\tbest: 0.6243094 (25)\ttotal: 4m 6s\tremaining: 11m 40s\n",
      "30:\tlearn: 0.6225618\ttest: 0.6208737\tbest: 0.6208737 (30)\ttotal: 4m 44s\tremaining: 10m 34s\n",
      "35:\tlearn: 0.6183425\ttest: 0.6161153\tbest: 0.6161153 (35)\ttotal: 5m 36s\tremaining: 9m 58s\n",
      "40:\tlearn: 0.6142051\ttest: 0.6112813\tbest: 0.6112813 (40)\ttotal: 6m 42s\tremaining: 9m 39s\n",
      "45:\tlearn: 0.6097683\ttest: 0.6059404\tbest: 0.6059404 (45)\ttotal: 7m 49s\tremaining: 9m 11s\n",
      "50:\tlearn: 0.6059130\ttest: 0.6011642\tbest: 0.6011642 (50)\ttotal: 9m 6s\tremaining: 8m 44s\n",
      "55:\tlearn: 0.6023847\ttest: 0.5975118\tbest: 0.5975118 (55)\ttotal: 10m 13s\tremaining: 8m 2s\n",
      "60:\tlearn: 0.6008229\ttest: 0.5958115\tbest: 0.5958115 (60)\ttotal: 11m 13s\tremaining: 7m 10s\n",
      "65:\tlearn: 0.5962297\ttest: 0.5909711\tbest: 0.5909711 (65)\ttotal: 12m 27s\tremaining: 6m 25s\n",
      "70:\tlearn: 0.5893516\ttest: 0.5830391\tbest: 0.5830391 (70)\ttotal: 13m 46s\tremaining: 5m 37s\n",
      "75:\tlearn: 0.5849886\ttest: 0.5780451\tbest: 0.5780451 (75)\ttotal: 14m 53s\tremaining: 4m 42s\n",
      "80:\tlearn: 0.5781520\ttest: 0.5697604\tbest: 0.5697604 (80)\ttotal: 16m 13s\tremaining: 3m 48s\n",
      "85:\tlearn: 0.5748751\ttest: 0.5654562\tbest: 0.5654562 (85)\ttotal: 17m 22s\tremaining: 2m 49s\n",
      "90:\tlearn: 0.5736029\ttest: 0.5638132\tbest: 0.5638132 (90)\ttotal: 18m 23s\tremaining: 1m 49s\n",
      "95:\tlearn: 0.5708546\ttest: 0.5606635\tbest: 0.5606635 (95)\ttotal: 19m 34s\tremaining: 48.9s\n",
      "99:\tlearn: 0.5695607\ttest: 0.5589217\tbest: 0.5589217 (99)\ttotal: 20m 51s\tremaining: 0us\n",
      "\n",
      "bestTest = 0.5589216698\n",
      "bestIteration = 99\n",
      "\n",
      "AUC: 0.794067\n",
      "~~~~~~~~~~~~~~~~~~~~~~~~~~~~~~~~\n",
      "\n",
      "Fold 3 / 5\n",
      "0:\tlearn: 0.6882979\ttest: 0.6882802\tbest: 0.6882802 (0)\ttotal: 13.4s\tremaining: 22m 4s\n",
      "5:\tlearn: 0.6597208\ttest: 0.6587501\tbest: 0.6587501 (5)\ttotal: 1m 11s\tremaining: 18m 36s\n",
      "10:\tlearn: 0.6399102\ttest: 0.6382652\tbest: 0.6382652 (10)\ttotal: 2m 4s\tremaining: 16m 47s\n",
      "15:\tlearn: 0.6313698\ttest: 0.6295919\tbest: 0.6295919 (15)\ttotal: 2m 47s\tremaining: 14m 36s\n",
      "20:\tlearn: 0.6252402\ttest: 0.6232569\tbest: 0.6232569 (20)\ttotal: 3m 34s\tremaining: 13m 27s\n",
      "25:\tlearn: 0.6211529\ttest: 0.6190140\tbest: 0.6190140 (25)\ttotal: 4m 26s\tremaining: 12m 38s\n",
      "30:\tlearn: 0.6183196\ttest: 0.6160609\tbest: 0.6160609 (30)\ttotal: 5m 21s\tremaining: 11m 54s\n",
      "35:\tlearn: 0.6115302\ttest: 0.6087815\tbest: 0.6087815 (35)\ttotal: 6m 20s\tremaining: 11m 16s\n",
      "40:\tlearn: 0.6090586\ttest: 0.6062403\tbest: 0.6062403 (40)\ttotal: 7m 19s\tremaining: 10m 32s\n",
      "45:\tlearn: 0.6024377\ttest: 0.5979681\tbest: 0.5979681 (45)\ttotal: 8m 42s\tremaining: 10m 13s\n",
      "50:\tlearn: 0.5991895\ttest: 0.5944869\tbest: 0.5944869 (50)\ttotal: 9m 45s\tremaining: 9m 22s\n",
      "55:\tlearn: 0.5943390\ttest: 0.5894074\tbest: 0.5894074 (55)\ttotal: 10m 49s\tremaining: 8m 30s\n",
      "60:\tlearn: 0.5898793\ttest: 0.5845370\tbest: 0.5845370 (60)\ttotal: 11m 48s\tremaining: 7m 33s\n",
      "65:\tlearn: 0.5877064\ttest: 0.5819140\tbest: 0.5819140 (65)\ttotal: 13m\tremaining: 6m 42s\n",
      "70:\tlearn: 0.5828022\ttest: 0.5762763\tbest: 0.5762763 (70)\ttotal: 14m 10s\tremaining: 5m 47s\n",
      "75:\tlearn: 0.5814903\ttest: 0.5747022\tbest: 0.5747022 (75)\ttotal: 15m 18s\tremaining: 4m 50s\n",
      "80:\tlearn: 0.5781317\ttest: 0.5708171\tbest: 0.5708171 (80)\ttotal: 16m 29s\tremaining: 3m 52s\n",
      "85:\tlearn: 0.5740376\ttest: 0.5651049\tbest: 0.5651049 (85)\ttotal: 17m 49s\tremaining: 2m 54s\n",
      "90:\tlearn: 0.5711096\ttest: 0.5619915\tbest: 0.5619915 (90)\ttotal: 18m 48s\tremaining: 1m 51s\n",
      "95:\tlearn: 0.5689338\ttest: 0.5589830\tbest: 0.5589830 (95)\ttotal: 19m 54s\tremaining: 49.8s\n",
      "99:\tlearn: 0.5679817\ttest: 0.5577401\tbest: 0.5577401 (99)\ttotal: 20m 46s\tremaining: 0us\n",
      "\n",
      "bestTest = 0.5577401103\n",
      "bestIteration = 99\n",
      "\n",
      "AUC: 0.795952\n",
      "~~~~~~~~~~~~~~~~~~~~~~~~~~~~~~~~\n",
      "\n",
      "Fold 4 / 5\n",
      "0:\tlearn: 0.6882927\ttest: 0.6882803\tbest: 0.6882803 (0)\ttotal: 13.6s\tremaining: 22m 26s\n",
      "5:\tlearn: 0.6609466\ttest: 0.6600765\tbest: 0.6600765 (5)\ttotal: 1m 8s\tremaining: 17m 52s\n",
      "10:\tlearn: 0.6453015\ttest: 0.6440492\tbest: 0.6440492 (10)\ttotal: 1m 53s\tremaining: 15m 20s\n",
      "15:\tlearn: 0.6340461\ttest: 0.6324413\tbest: 0.6324413 (15)\ttotal: 2m 43s\tremaining: 14m 18s\n",
      "20:\tlearn: 0.6279952\ttest: 0.6263864\tbest: 0.6263864 (20)\ttotal: 3m 28s\tremaining: 13m 5s\n",
      "25:\tlearn: 0.6222571\ttest: 0.6204560\tbest: 0.6204560 (25)\ttotal: 4m 11s\tremaining: 11m 56s\n",
      "30:\tlearn: 0.6190557\ttest: 0.6171664\tbest: 0.6171664 (30)\ttotal: 4m 54s\tremaining: 10m 55s\n",
      "35:\tlearn: 0.6121006\ttest: 0.6085980\tbest: 0.6085980 (35)\ttotal: 5m 53s\tremaining: 10m 27s\n",
      "40:\tlearn: 0.6084371\ttest: 0.6046344\tbest: 0.6046344 (40)\ttotal: 6m 58s\tremaining: 10m 1s\n",
      "45:\tlearn: 0.6054555\ttest: 0.6012851\tbest: 0.6012851 (45)\ttotal: 8m 1s\tremaining: 9m 25s\n",
      "50:\tlearn: 0.6015804\ttest: 0.5965021\tbest: 0.5965021 (50)\ttotal: 9m 16s\tremaining: 8m 54s\n",
      "55:\tlearn: 0.5966540\ttest: 0.5907162\tbest: 0.5907162 (55)\ttotal: 10m 21s\tremaining: 8m 8s\n",
      "60:\tlearn: 0.5934857\ttest: 0.5874032\tbest: 0.5874032 (60)\ttotal: 11m 41s\tremaining: 7m 28s\n",
      "65:\tlearn: 0.5892118\ttest: 0.5828670\tbest: 0.5828670 (65)\ttotal: 12m 50s\tremaining: 6m 37s\n",
      "70:\tlearn: 0.5867035\ttest: 0.5802694\tbest: 0.5802694 (70)\ttotal: 13m 55s\tremaining: 5m 41s\n",
      "75:\tlearn: 0.5817168\ttest: 0.5748912\tbest: 0.5748912 (75)\ttotal: 15m 6s\tremaining: 4m 46s\n",
      "80:\tlearn: 0.5807024\ttest: 0.5737376\tbest: 0.5737376 (80)\ttotal: 16m 11s\tremaining: 3m 47s\n",
      "85:\tlearn: 0.5742233\ttest: 0.5657641\tbest: 0.5657641 (85)\ttotal: 17m 37s\tremaining: 2m 52s\n",
      "90:\tlearn: 0.5709048\ttest: 0.5609831\tbest: 0.5609831 (90)\ttotal: 18m 56s\tremaining: 1m 52s\n",
      "95:\tlearn: 0.5684287\ttest: 0.5578065\tbest: 0.5578065 (95)\ttotal: 20m 16s\tremaining: 50.7s\n",
      "99:\tlearn: 0.5672712\ttest: 0.5562013\tbest: 0.5562013 (99)\ttotal: 21m 10s\tremaining: 0us\n",
      "\n",
      "bestTest = 0.556201322\n",
      "bestIteration = 99\n",
      "\n",
      "AUC: 0.796590\n",
      "~~~~~~~~~~~~~~~~~~~~~~~~~~~~~~~~\n",
      "\n",
      "Fold 5 / 5\n",
      "0:\tlearn: 0.6882820\ttest: 0.6882697\tbest: 0.6882697 (0)\ttotal: 13.3s\tremaining: 21m 59s\n",
      "5:\tlearn: 0.6638617\ttest: 0.6632085\tbest: 0.6632085 (5)\ttotal: 1m 5s\tremaining: 17m 6s\n",
      "10:\tlearn: 0.6437394\ttest: 0.6422502\tbest: 0.6422502 (10)\ttotal: 1m 58s\tremaining: 15m 58s\n"
     ]
    },
    {
     "name": "stdout",
     "output_type": "stream",
     "text": [
      "15:\tlearn: 0.6315897\ttest: 0.6296156\tbest: 0.6296156 (15)\ttotal: 2m 49s\tremaining: 14m 51s\n",
      "20:\tlearn: 0.6253085\ttest: 0.6231205\tbest: 0.6231205 (20)\ttotal: 3m 32s\tremaining: 13m 19s\n",
      "25:\tlearn: 0.6210253\ttest: 0.6186958\tbest: 0.6186958 (25)\ttotal: 4m 11s\tremaining: 11m 55s\n",
      "30:\tlearn: 0.6180817\ttest: 0.6156651\tbest: 0.6156651 (30)\ttotal: 4m 56s\tremaining: 11m\n",
      "35:\tlearn: 0.6141949\ttest: 0.6111076\tbest: 0.6111076 (35)\ttotal: 5m 49s\tremaining: 10m 21s\n",
      "40:\tlearn: 0.6049283\ttest: 0.5992238\tbest: 0.5992238 (40)\ttotal: 7m 10s\tremaining: 10m 20s\n",
      "45:\tlearn: 0.6010766\ttest: 0.5947001\tbest: 0.5947001 (45)\ttotal: 8m 14s\tremaining: 9m 41s\n",
      "50:\tlearn: 0.5994081\ttest: 0.5930719\tbest: 0.5930719 (50)\ttotal: 9m 22s\tremaining: 9m\n",
      "55:\tlearn: 0.5976931\ttest: 0.5912913\tbest: 0.5912913 (55)\ttotal: 10m 26s\tremaining: 8m 12s\n",
      "60:\tlearn: 0.5941540\ttest: 0.5876099\tbest: 0.5876099 (60)\ttotal: 11m 33s\tremaining: 7m 23s\n",
      "65:\tlearn: 0.5916330\ttest: 0.5850400\tbest: 0.5850400 (65)\ttotal: 12m 38s\tremaining: 6m 30s\n",
      "70:\tlearn: 0.5878826\ttest: 0.5811065\tbest: 0.5811065 (70)\ttotal: 13m 49s\tremaining: 5m 38s\n",
      "75:\tlearn: 0.5826232\ttest: 0.5750440\tbest: 0.5750440 (75)\ttotal: 14m 53s\tremaining: 4m 42s\n",
      "80:\tlearn: 0.5788855\ttest: 0.5707226\tbest: 0.5707226 (80)\ttotal: 16m 6s\tremaining: 3m 46s\n",
      "85:\tlearn: 0.5750387\ttest: 0.5660483\tbest: 0.5660483 (85)\ttotal: 17m 19s\tremaining: 2m 49s\n",
      "90:\tlearn: 0.5713122\ttest: 0.5612817\tbest: 0.5612817 (90)\ttotal: 18m 31s\tremaining: 1m 49s\n",
      "95:\tlearn: 0.5699735\ttest: 0.5598457\tbest: 0.5598457 (95)\ttotal: 19m 24s\tremaining: 48.5s\n",
      "99:\tlearn: 0.5677998\ttest: 0.5575482\tbest: 0.5575482 (99)\ttotal: 20m 15s\tremaining: 0us\n",
      "\n",
      "bestTest = 0.5575482488\n",
      "bestIteration = 99\n",
      "\n",
      "AUC: 0.794635\n",
      "~~~~~~~~~~~~~~~~~~~~~~~~~~~~~~~~\n",
      "\n",
      "CPU times: user 4h 51min 40s, sys: 45min 2s, total: 5h 36min 42s\n",
      "Wall time: 1h 46min 6s\n"
     ]
    }
   ],
   "source": [
    "%%time\n",
    "aucs, models = k_fold_train(X=X_droped_na, \n",
    "                            y=y_droped_na,\n",
    "                            iterations=100)"
   ]
  },
  {
   "cell_type": "code",
   "execution_count": 68,
   "metadata": {
    "id": "o0XMDv-O6Nle"
   },
   "outputs": [
    {
     "data": {
      "text/plain": [
       "[0.7961346995697973,\n",
       " 0.7940666507280865,\n",
       " 0.7959522126032913,\n",
       " 0.7965898526400843,\n",
       " 0.7946345012154211]"
      ]
     },
     "execution_count": 68,
     "metadata": {},
     "output_type": "execute_result"
    }
   ],
   "source": [
    "aucs"
   ]
  },
  {
   "cell_type": "markdown",
   "metadata": {},
   "source": [
    "Натренируем модель на датасете в котором все NA-value были заменены на \"среднее по больнице\" (c) Евгений Малютин"
   ]
  },
  {
   "cell_type": "code",
   "execution_count": 69,
   "metadata": {
    "scrolled": true
   },
   "outputs": [
    {
     "name": "stdout",
     "output_type": "stream",
     "text": [
      "start processing...\n",
      "categorizing...\n",
      "adding biases...\n",
      "finished\n",
      "CPU times: user 1min 37s, sys: 29.6 s, total: 2min 7s\n",
      "Wall time: 2min 19s\n"
     ]
    },
    {
     "data": {
      "text/plain": [
       "(7377147, 24)"
      ]
     },
     "execution_count": 69,
     "metadata": {},
     "output_type": "execute_result"
    }
   ],
   "source": [
    "%%time\n",
    "X_filled_na, y_filled_na = process_dataset(train, drop_na=False)\n",
    "X_filled_na.shape"
   ]
  },
  {
   "cell_type": "code",
   "execution_count": 70,
   "metadata": {},
   "outputs": [
    {
     "data": {
      "text/html": [
       "<div>\n",
       "<style scoped>\n",
       "    .dataframe tbody tr th:only-of-type {\n",
       "        vertical-align: middle;\n",
       "    }\n",
       "\n",
       "    .dataframe tbody tr th {\n",
       "        vertical-align: top;\n",
       "    }\n",
       "\n",
       "    .dataframe thead th {\n",
       "        text-align: right;\n",
       "    }\n",
       "</style>\n",
       "<table border=\"1\" class=\"dataframe\">\n",
       "  <thead>\n",
       "    <tr style=\"text-align: right;\">\n",
       "      <th></th>\n",
       "      <th>source_system_tab</th>\n",
       "      <th>source_screen_name</th>\n",
       "      <th>source_type</th>\n",
       "      <th>city</th>\n",
       "      <th>bd</th>\n",
       "      <th>registration_year</th>\n",
       "      <th>registration_month</th>\n",
       "      <th>registration_day</th>\n",
       "      <th>expiration_year</th>\n",
       "      <th>expiration_month</th>\n",
       "      <th>...</th>\n",
       "      <th>song_length</th>\n",
       "      <th>genre_ids</th>\n",
       "      <th>artist_name</th>\n",
       "      <th>language</th>\n",
       "      <th>song_registration_year</th>\n",
       "      <th>song_country_code</th>\n",
       "      <th>song_registration_organisation</th>\n",
       "      <th>artist_count</th>\n",
       "      <th>user_genres_counter</th>\n",
       "      <th>user_artists_counter</th>\n",
       "    </tr>\n",
       "  </thead>\n",
       "  <tbody>\n",
       "    <tr>\n",
       "      <th>0</th>\n",
       "      <td>explore</td>\n",
       "      <td>Explore</td>\n",
       "      <td>online-playlist</td>\n",
       "      <td>1</td>\n",
       "      <td>0</td>\n",
       "      <td>2012</td>\n",
       "      <td>1</td>\n",
       "      <td>2</td>\n",
       "      <td>2017</td>\n",
       "      <td>10</td>\n",
       "      <td>...</td>\n",
       "      <td>206471.0</td>\n",
       "      <td>359</td>\n",
       "      <td>Bastille</td>\n",
       "      <td>54</td>\n",
       "      <td>2016</td>\n",
       "      <td>GB</td>\n",
       "      <td>02854</td>\n",
       "      <td>1140</td>\n",
       "      <td>166</td>\n",
       "      <td>3</td>\n",
       "    </tr>\n",
       "    <tr>\n",
       "      <th>1</th>\n",
       "      <td>my library</td>\n",
       "      <td>Local playlist more</td>\n",
       "      <td>local-playlist</td>\n",
       "      <td>13</td>\n",
       "      <td>24</td>\n",
       "      <td>2011</td>\n",
       "      <td>5</td>\n",
       "      <td>25</td>\n",
       "      <td>2017</td>\n",
       "      <td>9</td>\n",
       "      <td>...</td>\n",
       "      <td>284584.0</td>\n",
       "      <td>1259</td>\n",
       "      <td>Various Artists</td>\n",
       "      <td>54</td>\n",
       "      <td>1999</td>\n",
       "      <td>US</td>\n",
       "      <td>10183</td>\n",
       "      <td>303342</td>\n",
       "      <td>47</td>\n",
       "      <td>24</td>\n",
       "    </tr>\n",
       "    <tr>\n",
       "      <th>2</th>\n",
       "      <td>my library</td>\n",
       "      <td>Local playlist more</td>\n",
       "      <td>local-playlist</td>\n",
       "      <td>13</td>\n",
       "      <td>24</td>\n",
       "      <td>2011</td>\n",
       "      <td>5</td>\n",
       "      <td>25</td>\n",
       "      <td>2017</td>\n",
       "      <td>9</td>\n",
       "      <td>...</td>\n",
       "      <td>225396.0</td>\n",
       "      <td>1259</td>\n",
       "      <td>Nas</td>\n",
       "      <td>54</td>\n",
       "      <td>2006</td>\n",
       "      <td>US</td>\n",
       "      <td>18761</td>\n",
       "      <td>289</td>\n",
       "      <td>47</td>\n",
       "      <td>2</td>\n",
       "    </tr>\n",
       "    <tr>\n",
       "      <th>3</th>\n",
       "      <td>my library</td>\n",
       "      <td>Local playlist more</td>\n",
       "      <td>local-playlist</td>\n",
       "      <td>13</td>\n",
       "      <td>24</td>\n",
       "      <td>2011</td>\n",
       "      <td>5</td>\n",
       "      <td>25</td>\n",
       "      <td>2017</td>\n",
       "      <td>9</td>\n",
       "      <td>...</td>\n",
       "      <td>255512.0</td>\n",
       "      <td>1019</td>\n",
       "      <td>Soundway</td>\n",
       "      <td>1</td>\n",
       "      <td>2010</td>\n",
       "      <td>GB</td>\n",
       "      <td>00063</td>\n",
       "      <td>1</td>\n",
       "      <td>1</td>\n",
       "      <td>1</td>\n",
       "    </tr>\n",
       "    <tr>\n",
       "      <th>4</th>\n",
       "      <td>explore</td>\n",
       "      <td>Explore</td>\n",
       "      <td>online-playlist</td>\n",
       "      <td>1</td>\n",
       "      <td>0</td>\n",
       "      <td>2012</td>\n",
       "      <td>1</td>\n",
       "      <td>2</td>\n",
       "      <td>2017</td>\n",
       "      <td>10</td>\n",
       "      <td>...</td>\n",
       "      <td>187802.0</td>\n",
       "      <td>1011</td>\n",
       "      <td>Brett Young</td>\n",
       "      <td>54</td>\n",
       "      <td>2016</td>\n",
       "      <td>QM</td>\n",
       "      <td>06003</td>\n",
       "      <td>427</td>\n",
       "      <td>38</td>\n",
       "      <td>1</td>\n",
       "    </tr>\n",
       "  </tbody>\n",
       "</table>\n",
       "<p>5 rows × 24 columns</p>\n",
       "</div>"
      ],
      "text/plain": [
       "  source_system_tab   source_screen_name      source_type city  bd  \\\n",
       "0           explore              Explore  online-playlist    1   0   \n",
       "1        my library  Local playlist more   local-playlist   13  24   \n",
       "2        my library  Local playlist more   local-playlist   13  24   \n",
       "3        my library  Local playlist more   local-playlist   13  24   \n",
       "4           explore              Explore  online-playlist    1   0   \n",
       "\n",
       "  registration_year registration_month registration_day expiration_year  \\\n",
       "0              2012                  1                2            2017   \n",
       "1              2011                  5               25            2017   \n",
       "2              2011                  5               25            2017   \n",
       "3              2011                  5               25            2017   \n",
       "4              2012                  1                2            2017   \n",
       "\n",
       "  expiration_month  ... song_length  genre_ids      artist_name language  \\\n",
       "0               10  ...    206471.0        359         Bastille       54   \n",
       "1                9  ...    284584.0       1259  Various Artists       54   \n",
       "2                9  ...    225396.0       1259              Nas       54   \n",
       "3                9  ...    255512.0       1019         Soundway        1   \n",
       "4               10  ...    187802.0       1011      Brett Young       54   \n",
       "\n",
       "   song_registration_year song_country_code song_registration_organisation  \\\n",
       "0                    2016                GB                          02854   \n",
       "1                    1999                US                          10183   \n",
       "2                    2006                US                          18761   \n",
       "3                    2010                GB                          00063   \n",
       "4                    2016                QM                          06003   \n",
       "\n",
       "  artist_count user_genres_counter user_artists_counter  \n",
       "0         1140                 166                    3  \n",
       "1       303342                  47                   24  \n",
       "2          289                  47                    2  \n",
       "3            1                   1                    1  \n",
       "4          427                  38                    1  \n",
       "\n",
       "[5 rows x 24 columns]"
      ]
     },
     "execution_count": 70,
     "metadata": {},
     "output_type": "execute_result"
    }
   ],
   "source": [
    "X_filled_na.head()"
   ]
  },
  {
   "cell_type": "code",
   "execution_count": 71,
   "metadata": {},
   "outputs": [
    {
     "name": "stdout",
     "output_type": "stream",
     "text": [
      "Fold 1 / 5\n",
      "0:\tlearn: 0.6883500\ttest: 0.6883211\tbest: 0.6883211 (0)\ttotal: 12.3s\tremaining: 1h 1m 16s\n",
      "15:\tlearn: 0.6307720\ttest: 0.6286057\tbest: 0.6286057 (15)\ttotal: 3m\tremaining: 53m 24s\n",
      "30:\tlearn: 0.6177908\ttest: 0.6152533\tbest: 0.6152533 (30)\ttotal: 5m 29s\tremaining: 47m 43s\n",
      "45:\tlearn: 0.5974338\ttest: 0.5894245\tbest: 0.5894245 (45)\ttotal: 9m 33s\tremaining: 52m 45s\n",
      "60:\tlearn: 0.5901715\ttest: 0.5820531\tbest: 0.5820531 (60)\ttotal: 12m 58s\tremaining: 50m 50s\n",
      "75:\tlearn: 0.5822225\ttest: 0.5732719\tbest: 0.5732719 (75)\ttotal: 16m 39s\tremaining: 49m 6s\n",
      "90:\tlearn: 0.5714863\ttest: 0.5605252\tbest: 0.5605252 (90)\ttotal: 20m 29s\tremaining: 47m 3s\n",
      "105:\tlearn: 0.5649630\ttest: 0.5526883\tbest: 0.5526883 (105)\ttotal: 24m 5s\tremaining: 44m 4s\n",
      "120:\tlearn: 0.5595114\ttest: 0.5465927\tbest: 0.5465927 (120)\ttotal: 27m 45s\tremaining: 41m 3s\n",
      "135:\tlearn: 0.5579623\ttest: 0.5449141\tbest: 0.5449141 (135)\ttotal: 31m 17s\tremaining: 37m 43s\n",
      "150:\tlearn: 0.5558951\ttest: 0.5426318\tbest: 0.5426318 (150)\ttotal: 34m 37s\tremaining: 34m 10s\n",
      "165:\tlearn: 0.5532272\ttest: 0.5395998\tbest: 0.5395998 (165)\ttotal: 37m 38s\tremaining: 30m 23s\n",
      "180:\tlearn: 0.5497444\ttest: 0.5352443\tbest: 0.5352443 (180)\ttotal: 41m 19s\tremaining: 27m 10s\n",
      "195:\tlearn: 0.5480105\ttest: 0.5333947\tbest: 0.5333947 (195)\ttotal: 44m 50s\tremaining: 23m 47s\n",
      "210:\tlearn: 0.5436023\ttest: 0.5280166\tbest: 0.5280166 (210)\ttotal: 48m 52s\tremaining: 20m 37s\n",
      "225:\tlearn: 0.5407636\ttest: 0.5244158\tbest: 0.5244158 (225)\ttotal: 52m 46s\tremaining: 17m 16s\n",
      "240:\tlearn: 0.5395355\ttest: 0.5228528\tbest: 0.5228528 (240)\ttotal: 56m 18s\tremaining: 13m 47s\n",
      "255:\tlearn: 0.5370796\ttest: 0.5200550\tbest: 0.5200550 (255)\ttotal: 59m 46s\tremaining: 10m 16s\n",
      "270:\tlearn: 0.5358189\ttest: 0.5186107\tbest: 0.5186107 (270)\ttotal: 1h 3m 3s\tremaining: 6m 44s\n",
      "285:\tlearn: 0.5345983\ttest: 0.5171875\tbest: 0.5171875 (285)\ttotal: 1h 6m 45s\tremaining: 3m 16s\n",
      "299:\tlearn: 0.5340506\ttest: 0.5165204\tbest: 0.5165204 (299)\ttotal: 1h 10m 4s\tremaining: 0us\n",
      "\n",
      "bestTest = 0.5165203996\n",
      "bestIteration = 299\n",
      "\n",
      "AUC: 0.823931\n",
      "~~~~~~~~~~~~~~~~~~~~~~~~~~~~~~~~\n",
      "\n",
      "Fold 2 / 5\n",
      "0:\tlearn: 0.6883606\ttest: 0.6883488\tbest: 0.6883488 (0)\ttotal: 14.1s\tremaining: 1h 10m 2s\n",
      "15:\tlearn: 0.6329839\ttest: 0.6312733\tbest: 0.6312733 (15)\ttotal: 2m 49s\tremaining: 50m 8s\n",
      "30:\tlearn: 0.6201840\ttest: 0.6180025\tbest: 0.6180025 (30)\ttotal: 5m 11s\tremaining: 45m\n",
      "45:\tlearn: 0.6004606\ttest: 0.5929338\tbest: 0.5929338 (45)\ttotal: 8m 57s\tremaining: 49m 25s\n",
      "60:\tlearn: 0.5913850\ttest: 0.5837271\tbest: 0.5837271 (60)\ttotal: 12m 8s\tremaining: 47m 32s\n",
      "75:\tlearn: 0.5792627\ttest: 0.5699763\tbest: 0.5699763 (75)\ttotal: 16m 15s\tremaining: 47m 55s\n",
      "90:\tlearn: 0.5711272\ttest: 0.5607529\tbest: 0.5607529 (90)\ttotal: 19m 31s\tremaining: 44m 51s\n",
      "105:\tlearn: 0.5649414\ttest: 0.5535674\tbest: 0.5535674 (105)\ttotal: 22m 57s\tremaining: 42m\n",
      "120:\tlearn: 0.5602624\ttest: 0.5481465\tbest: 0.5481465 (120)\ttotal: 26m 39s\tremaining: 39m 26s\n",
      "135:\tlearn: 0.5576354\ttest: 0.5450590\tbest: 0.5450590 (135)\ttotal: 30m\tremaining: 36m 11s\n",
      "150:\tlearn: 0.5537987\ttest: 0.5402629\tbest: 0.5402629 (150)\ttotal: 33m 53s\tremaining: 33m 26s\n",
      "165:\tlearn: 0.5512524\ttest: 0.5371122\tbest: 0.5371122 (165)\ttotal: 37m 24s\tremaining: 30m 12s\n",
      "180:\tlearn: 0.5480643\ttest: 0.5330266\tbest: 0.5330266 (180)\ttotal: 41m 3s\tremaining: 26m 59s\n",
      "195:\tlearn: 0.5440920\ttest: 0.5280948\tbest: 0.5280948 (195)\ttotal: 44m 55s\tremaining: 23m 50s\n",
      "210:\tlearn: 0.5428037\ttest: 0.5263051\tbest: 0.5263051 (210)\ttotal: 48m 46s\tremaining: 20m 34s\n",
      "225:\tlearn: 0.5417606\ttest: 0.5251633\tbest: 0.5251633 (225)\ttotal: 51m 53s\tremaining: 16m 59s\n",
      "240:\tlearn: 0.5388172\ttest: 0.5218498\tbest: 0.5218498 (240)\ttotal: 55m 26s\tremaining: 13m 34s\n",
      "255:\tlearn: 0.5380534\ttest: 0.5209242\tbest: 0.5209242 (255)\ttotal: 59m 1s\tremaining: 10m 8s\n",
      "270:\tlearn: 0.5370718\ttest: 0.5198704\tbest: 0.5198704 (270)\ttotal: 1h 2m 30s\tremaining: 6m 41s\n",
      "285:\tlearn: 0.5364013\ttest: 0.5191074\tbest: 0.5191074 (285)\ttotal: 1h 6m 8s\tremaining: 3m 14s\n",
      "299:\tlearn: 0.5355281\ttest: 0.5181551\tbest: 0.5181551 (299)\ttotal: 1h 9m 17s\tremaining: 0us\n",
      "\n",
      "bestTest = 0.5181551321\n",
      "bestIteration = 299\n",
      "\n",
      "AUC: 0.823200\n",
      "~~~~~~~~~~~~~~~~~~~~~~~~~~~~~~~~\n",
      "\n",
      "Fold 3 / 5\n",
      "0:\tlearn: 0.6883671\ttest: 0.6883748\tbest: 0.6883748 (0)\ttotal: 13.6s\tremaining: 1h 7m 56s\n",
      "15:\tlearn: 0.6329556\ttest: 0.6315299\tbest: 0.6315299 (15)\ttotal: 3m 2s\tremaining: 53m 52s\n",
      "30:\tlearn: 0.6200843\ttest: 0.6183772\tbest: 0.6183772 (30)\ttotal: 5m 31s\tremaining: 47m 59s\n",
      "45:\tlearn: 0.6003897\ttest: 0.5932255\tbest: 0.5932255 (45)\ttotal: 9m 7s\tremaining: 50m 25s\n",
      "60:\tlearn: 0.5906248\ttest: 0.5829886\tbest: 0.5829886 (60)\ttotal: 12m 38s\tremaining: 49m 33s\n",
      "75:\tlearn: 0.5774905\ttest: 0.5686757\tbest: 0.5686757 (75)\ttotal: 16m 30s\tremaining: 48m 38s\n",
      "90:\tlearn: 0.5713374\ttest: 0.5612942\tbest: 0.5612942 (90)\ttotal: 20m 7s\tremaining: 46m 12s\n",
      "105:\tlearn: 0.5649499\ttest: 0.5534908\tbest: 0.5534908 (105)\ttotal: 23m 52s\tremaining: 43m 41s\n",
      "120:\tlearn: 0.5613589\ttest: 0.5494777\tbest: 0.5494777 (120)\ttotal: 27m 19s\tremaining: 40m 26s\n",
      "135:\tlearn: 0.5567971\ttest: 0.5440966\tbest: 0.5440966 (135)\ttotal: 30m 40s\tremaining: 36m 59s\n",
      "150:\tlearn: 0.5537922\ttest: 0.5407738\tbest: 0.5407738 (150)\ttotal: 34m\tremaining: 33m 33s\n",
      "165:\tlearn: 0.5499701\ttest: 0.5362096\tbest: 0.5362096 (165)\ttotal: 37m 53s\tremaining: 30m 35s\n",
      "180:\tlearn: 0.5472619\ttest: 0.5328966\tbest: 0.5328966 (180)\ttotal: 41m 51s\tremaining: 27m 30s\n",
      "195:\tlearn: 0.5461942\ttest: 0.5316977\tbest: 0.5316977 (195)\ttotal: 45m 13s\tremaining: 23m 59s\n",
      "210:\tlearn: 0.5436222\ttest: 0.5287409\tbest: 0.5287409 (210)\ttotal: 48m 37s\tremaining: 20m 30s\n",
      "225:\tlearn: 0.5405809\ttest: 0.5250110\tbest: 0.5250110 (225)\ttotal: 52m 13s\tremaining: 17m 5s\n",
      "240:\tlearn: 0.5389753\ttest: 0.5230306\tbest: 0.5230306 (240)\ttotal: 55m 56s\tremaining: 13m 41s\n",
      "255:\tlearn: 0.5374672\ttest: 0.5212123\tbest: 0.5212123 (255)\ttotal: 1h 2s\tremaining: 10m 19s\n",
      "270:\tlearn: 0.5359106\ttest: 0.5193423\tbest: 0.5193423 (270)\ttotal: 1h 3m 45s\tremaining: 6m 49s\n",
      "285:\tlearn: 0.5351275\ttest: 0.5183458\tbest: 0.5183458 (285)\ttotal: 1h 7m 17s\tremaining: 3m 17s\n",
      "299:\tlearn: 0.5334480\ttest: 0.5162487\tbest: 0.5162487 (299)\ttotal: 1h 11m 5s\tremaining: 0us\n",
      "\n",
      "bestTest = 0.5162486896\n",
      "bestIteration = 299\n",
      "\n",
      "AUC: 0.825573\n",
      "~~~~~~~~~~~~~~~~~~~~~~~~~~~~~~~~\n",
      "\n",
      "Fold 4 / 5\n",
      "0:\tlearn: 0.6883480\ttest: 0.6883705\tbest: 0.6883705 (0)\ttotal: 12.9s\tremaining: 1h 4m 25s\n",
      "15:\tlearn: 0.6378115\ttest: 0.6368472\tbest: 0.6368472 (15)\ttotal: 2m 50s\tremaining: 50m 34s\n",
      "30:\tlearn: 0.6227897\ttest: 0.6215311\tbest: 0.6215311 (30)\ttotal: 5m 17s\tremaining: 45m 52s\n",
      "45:\tlearn: 0.6060150\ttest: 0.6010375\tbest: 0.6010375 (45)\ttotal: 8m 45s\tremaining: 48m 24s\n",
      "60:\tlearn: 0.5925728\ttest: 0.5858816\tbest: 0.5858816 (60)\ttotal: 12m 33s\tremaining: 49m 13s\n",
      "75:\tlearn: 0.5799570\ttest: 0.5709287\tbest: 0.5709287 (75)\ttotal: 16m 43s\tremaining: 49m 17s\n",
      "90:\tlearn: 0.5697388\ttest: 0.5588750\tbest: 0.5588750 (90)\ttotal: 20m 57s\tremaining: 48m 8s\n",
      "105:\tlearn: 0.5643390\ttest: 0.5527475\tbest: 0.5527475 (105)\ttotal: 24m 54s\tremaining: 45m 35s\n",
      "120:\tlearn: 0.5611399\ttest: 0.5492412\tbest: 0.5492412 (120)\ttotal: 28m 3s\tremaining: 41m 30s\n",
      "135:\tlearn: 0.5579872\ttest: 0.5457495\tbest: 0.5457495 (135)\ttotal: 31m 24s\tremaining: 37m 52s\n",
      "150:\tlearn: 0.5547690\ttest: 0.5417530\tbest: 0.5417530 (150)\ttotal: 35m 21s\tremaining: 34m 53s\n",
      "165:\tlearn: 0.5527253\ttest: 0.5394285\tbest: 0.5394285 (165)\ttotal: 38m 54s\tremaining: 31m 24s\n",
      "180:\tlearn: 0.5510639\ttest: 0.5372213\tbest: 0.5372213 (180)\ttotal: 42m 17s\tremaining: 27m 47s\n",
      "195:\tlearn: 0.5477735\ttest: 0.5333843\tbest: 0.5333843 (195)\ttotal: 45m 58s\tremaining: 24m 23s\n",
      "210:\tlearn: 0.5442879\ttest: 0.5292842\tbest: 0.5292842 (210)\ttotal: 49m 51s\tremaining: 21m 1s\n",
      "225:\tlearn: 0.5412136\ttest: 0.5259247\tbest: 0.5259247 (225)\ttotal: 53m 43s\tremaining: 17m 35s\n",
      "240:\tlearn: 0.5398228\ttest: 0.5239884\tbest: 0.5239884 (240)\ttotal: 57m 26s\tremaining: 14m 3s\n",
      "255:\tlearn: 0.5375965\ttest: 0.5213526\tbest: 0.5213526 (255)\ttotal: 1h 1m 31s\tremaining: 10m 34s\n",
      "270:\tlearn: 0.5363844\ttest: 0.5199389\tbest: 0.5199389 (270)\ttotal: 1h 5m 17s\tremaining: 6m 59s\n",
      "285:\tlearn: 0.5355091\ttest: 0.5188859\tbest: 0.5188859 (285)\ttotal: 1h 8m 42s\tremaining: 3m 21s\n",
      "299:\tlearn: 0.5348270\ttest: 0.5179450\tbest: 0.5179450 (299)\ttotal: 1h 12m 27s\tremaining: 0us\n",
      "\n",
      "bestTest = 0.5179450129\n",
      "bestIteration = 299\n",
      "\n",
      "AUC: 0.824512\n",
      "~~~~~~~~~~~~~~~~~~~~~~~~~~~~~~~~\n",
      "\n"
     ]
    },
    {
     "name": "stdout",
     "output_type": "stream",
     "text": [
      "Fold 5 / 5\n",
      "0:\tlearn: 0.6883313\ttest: 0.6883601\tbest: 0.6883601 (0)\ttotal: 13.7s\tremaining: 1h 8m 10s\n",
      "15:\tlearn: 0.6314064\ttest: 0.6298558\tbest: 0.6298558 (15)\ttotal: 3m 3s\tremaining: 54m 15s\n",
      "30:\tlearn: 0.6181406\ttest: 0.6164499\tbest: 0.6164499 (30)\ttotal: 5m 25s\tremaining: 47m 1s\n",
      "45:\tlearn: 0.6052282\ttest: 0.6013479\tbest: 0.6013479 (45)\ttotal: 8m 56s\tremaining: 49m 20s\n",
      "60:\tlearn: 0.5941868\ttest: 0.5889579\tbest: 0.5889579 (60)\ttotal: 13m 4s\tremaining: 51m 12s\n",
      "75:\tlearn: 0.5824680\ttest: 0.5750665\tbest: 0.5750665 (75)\ttotal: 17m 15s\tremaining: 50m 52s\n",
      "90:\tlearn: 0.5739484\ttest: 0.5641884\tbest: 0.5641884 (90)\ttotal: 21m 31s\tremaining: 49m 26s\n",
      "105:\tlearn: 0.5675592\ttest: 0.5562411\tbest: 0.5562411 (105)\ttotal: 25m 25s\tremaining: 46m 31s\n",
      "120:\tlearn: 0.5620333\ttest: 0.5497970\tbest: 0.5497970 (120)\ttotal: 28m 59s\tremaining: 42m 52s\n",
      "135:\tlearn: 0.5576915\ttest: 0.5447836\tbest: 0.5447836 (135)\ttotal: 32m 31s\tremaining: 39m 13s\n",
      "150:\tlearn: 0.5555214\ttest: 0.5422595\tbest: 0.5422595 (150)\ttotal: 36m 5s\tremaining: 35m 37s\n",
      "165:\tlearn: 0.5533954\ttest: 0.5399672\tbest: 0.5399672 (165)\ttotal: 39m 25s\tremaining: 31m 49s\n",
      "180:\tlearn: 0.5501645\ttest: 0.5361241\tbest: 0.5361241 (180)\ttotal: 43m 32s\tremaining: 28m 37s\n",
      "195:\tlearn: 0.5455340\ttest: 0.5306589\tbest: 0.5306589 (195)\ttotal: 47m 46s\tremaining: 25m 21s\n",
      "210:\tlearn: 0.5438578\ttest: 0.5285232\tbest: 0.5285232 (210)\ttotal: 51m 37s\tremaining: 21m 46s\n",
      "225:\tlearn: 0.5414883\ttest: 0.5256576\tbest: 0.5256576 (225)\ttotal: 55m 28s\tremaining: 18m 9s\n",
      "240:\tlearn: 0.5393496\ttest: 0.5232547\tbest: 0.5232547 (240)\ttotal: 59m 1s\tremaining: 14m 27s\n",
      "255:\tlearn: 0.5374898\ttest: 0.5208354\tbest: 0.5208354 (255)\ttotal: 1h 3m 26s\tremaining: 10m 54s\n",
      "270:\tlearn: 0.5368061\ttest: 0.5200606\tbest: 0.5200606 (270)\ttotal: 1h 6m 52s\tremaining: 7m 9s\n",
      "285:\tlearn: 0.5350521\ttest: 0.5179147\tbest: 0.5179147 (285)\ttotal: 1h 10m 54s\tremaining: 3m 28s\n",
      "299:\tlearn: 0.5334285\ttest: 0.5159919\tbest: 0.5159919 (299)\ttotal: 1h 14m 30s\tremaining: 0us\n",
      "\n",
      "bestTest = 0.5159918583\n",
      "bestIteration = 299\n",
      "\n",
      "AUC: 0.825612\n",
      "~~~~~~~~~~~~~~~~~~~~~~~~~~~~~~~~\n",
      "\n",
      "CPU times: user 16h 1min 28s, sys: 2h 39min 41s, total: 18h 41min 10s\n",
      "Wall time: 6h 1min 46s\n"
     ]
    }
   ],
   "source": [
    "%%time\n",
    "aucs, models = k_fold_train(X=X_filled_na, \n",
    "                            y=y_filled_na, \n",
    "                            iterations=300)"
   ]
  },
  {
   "cell_type": "code",
   "execution_count": 72,
   "metadata": {},
   "outputs": [
    {
     "data": {
      "text/plain": [
       "[0.8239310829927498,\n",
       " 0.8232000326902008,\n",
       " 0.8255725710890135,\n",
       " 0.8245121742646101,\n",
       " 0.8256115971343351]"
      ]
     },
     "execution_count": 72,
     "metadata": {},
     "output_type": "execute_result"
    }
   ],
   "source": [
    "aucs"
   ]
  },
  {
   "cell_type": "markdown",
   "metadata": {},
   "source": [
    "**SHAP values explanation**"
   ]
  },
  {
   "cell_type": "code",
   "execution_count": 73,
   "metadata": {},
   "outputs": [],
   "source": [
    "def explain_shap_values(X, y, model):\n",
    "    _, X_test, _, _ = train_test_split(X, y, test_size=0.2, shuffle=True)\n",
    "    shap_values = shap.TreeExplainer(model).shap_values(X_test)\n",
    "    shap.summary_plot(shap_values, X_test, max_display=X_test.shape[1])"
   ]
  },
  {
   "cell_type": "code",
   "execution_count": 74,
   "metadata": {},
   "outputs": [
    {
     "data": {
      "image/png": "[encoded data removed]",
      "text/plain": [
       "<Figure size 576x799.2 with 2 Axes>"
      ]
     },
     "metadata": {
      "needs_background": "light"
     },
     "output_type": "display_data"
    },
    {
     "name": "stdout",
     "output_type": "stream",
     "text": [
      "CPU times: user 8min 43s, sys: 14.8 s, total: 8min 58s\n",
      "Wall time: 4min 43s\n"
     ]
    }
   ],
   "source": [
    "%%time\n",
    "explain_shap_values(X_filled_na, y_filled_na, models[0])"
   ]
  },
  {
   "cell_type": "markdown",
   "metadata": {},
   "source": [
    "#### Kaggle part"
   ]
  },
  {
   "cell_type": "code",
   "execution_count": 77,
   "metadata": {
    "scrolled": true
   },
   "outputs": [
    {
     "name": "stdout",
     "output_type": "stream",
     "text": [
      "start processing...\n",
      "categorizing...\n",
      "adding biases...\n",
      "finished\n"
     ]
    }
   ],
   "source": [
    "test['target'] = 0\n",
    "test_filled, _ = process_dataset(test)"
   ]
  },
  {
   "cell_type": "code",
   "execution_count": 96,
   "metadata": {},
   "outputs": [
    {
     "name": "stdout",
     "output_type": "stream",
     "text": [
      "CPU times: user 3min 58s, sys: 26.7 s, total: 4min 25s\n",
      "Wall time: 1min 44s\n"
     ]
    }
   ],
   "source": [
    "%%time\n",
    "predictions = [m.predict(test_filled.drop(['id'], axis=1), prediction_type='Probability')[:, 1] for m in models]\n",
    "predictions = np.array(predictions)"
   ]
  },
  {
   "cell_type": "code",
   "execution_count": 97,
   "metadata": {},
   "outputs": [
    {
     "data": {
      "text/html": [
       "<div>\n",
       "<style scoped>\n",
       "    .dataframe tbody tr th:only-of-type {\n",
       "        vertical-align: middle;\n",
       "    }\n",
       "\n",
       "    .dataframe tbody tr th {\n",
       "        vertical-align: top;\n",
       "    }\n",
       "\n",
       "    .dataframe thead th {\n",
       "        text-align: right;\n",
       "    }\n",
       "</style>\n",
       "<table border=\"1\" class=\"dataframe\">\n",
       "  <thead>\n",
       "    <tr style=\"text-align: right;\">\n",
       "      <th></th>\n",
       "      <th>id</th>\n",
       "      <th>target</th>\n",
       "    </tr>\n",
       "  </thead>\n",
       "  <tbody>\n",
       "    <tr>\n",
       "      <th>0</th>\n",
       "      <td>0</td>\n",
       "      <td>0.457872</td>\n",
       "    </tr>\n",
       "    <tr>\n",
       "      <th>1</th>\n",
       "      <td>1</td>\n",
       "      <td>0.547784</td>\n",
       "    </tr>\n",
       "    <tr>\n",
       "      <th>2</th>\n",
       "      <td>2</td>\n",
       "      <td>0.102872</td>\n",
       "    </tr>\n",
       "    <tr>\n",
       "      <th>3</th>\n",
       "      <td>3</td>\n",
       "      <td>0.088222</td>\n",
       "    </tr>\n",
       "    <tr>\n",
       "      <th>4</th>\n",
       "      <td>4</td>\n",
       "      <td>0.063073</td>\n",
       "    </tr>\n",
       "  </tbody>\n",
       "</table>\n",
       "</div>"
      ],
      "text/plain": [
       "   id    target\n",
       "0   0  0.457872\n",
       "1   1  0.547784\n",
       "2   2  0.102872\n",
       "3   3  0.088222\n",
       "4   4  0.063073"
      ]
     },
     "execution_count": 97,
     "metadata": {},
     "output_type": "execute_result"
    }
   ],
   "source": [
    "submission = pd.DataFrame({ 'id': test.id, 'target': predictions.mean(axis=0) })\n",
    "submission.head()"
   ]
  },
  {
   "cell_type": "code",
   "execution_count": 98,
   "metadata": {},
   "outputs": [],
   "source": [
    "submission.to_csv('submission.csv', index=False)"
   ]
  },
  {
   "cell_type": "code",
   "execution_count": null,
   "metadata": {},
   "outputs": [],
   "source": [
    "# Kaggle AUC ~ 0.69"
   ]
  }
 ],
 "metadata": {
  "accelerator": "GPU",
  "colab": {
   "collapsed_sections": [],
   "name": "music.ipynb",
   "provenance": []
  },
  "kernelspec": {
   "display_name": "Python 3",
   "language": "python",
   "name": "python3"
  },
  "language_info": {
   "codemirror_mode": {
    "name": "ipython",
    "version": 3
   },
   "file_extension": ".py",
   "mimetype": "text/x-python",
   "name": "python",
   "nbconvert_exporter": "python",
   "pygments_lexer": "ipython3",
   "version": "3.7.10"
  }
 },
 "nbformat": 4,
 "nbformat_minor": 1
}
